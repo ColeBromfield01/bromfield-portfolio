{
  "nbformat": 4,
  "nbformat_minor": 0,
  "metadata": {
    "colab": {
      "provenance": []
    },
    "kernelspec": {
      "name": "python3",
      "display_name": "Python 3"
    },
    "language_info": {
      "name": "python"
    }
  },
  "cells": [
    {
      "cell_type": "markdown",
      "source": [
        "Getting data for each review"
      ],
      "metadata": {
        "id": "QbV5NcgE5t2x"
      }
    },
    {
      "cell_type": "code",
      "execution_count": 128,
      "metadata": {
        "id": "JY3c_WMt4Fh8"
      },
      "outputs": [],
      "source": [
        "data_path = 'finefoods_training.txt'\n",
        "\n",
        "with open(data_path, 'r', encoding='utf-8', errors='ignore') as file:\n",
        "    reviews = file.read().split('\\n\\n')"
      ]
    },
    {
      "cell_type": "markdown",
      "source": [
        "Creating a dictionary for each review"
      ],
      "metadata": {
        "id": "JTgsea1h8lJJ"
      }
    },
    {
      "cell_type": "code",
      "source": [
        "review_data = []\n",
        "\n",
        "for review in reviews:\n",
        "    review_info = {}\n",
        "    lines = review.split('\\n')\n",
        "    for line in lines:\n",
        "        if ': ' not in line:\n",
        "          continue\n",
        "        s = line.split(': ', 1)\n",
        "        key = s[0]\n",
        "        value = s[1]\n",
        "        review_info[key] = value\n",
        "    review_data.append(review_info)"
      ],
      "metadata": {
        "id": "eD5cc-H_5siF"
      },
      "execution_count": 129,
      "outputs": []
    },
    {
      "cell_type": "markdown",
      "source": [
        "Creating a DataFrame from all reviews"
      ],
      "metadata": {
        "id": "231nW06e9kh7"
      }
    },
    {
      "cell_type": "code",
      "source": [
        "import pandas as pd"
      ],
      "metadata": {
        "id": "s3__s0fg8cow"
      },
      "execution_count": 4,
      "outputs": []
    },
    {
      "cell_type": "code",
      "source": [
        "df = pd.DataFrame(review_data)"
      ],
      "metadata": {
        "id": "9oTnT-Kg85Un"
      },
      "execution_count": 130,
      "outputs": []
    },
    {
      "cell_type": "markdown",
      "source": [
        "Cleaning up the DataFrame"
      ],
      "metadata": {
        "id": "dkVBRgiv9pqq"
      }
    },
    {
      "cell_type": "code",
      "source": [
        "import math"
      ],
      "metadata": {
        "id": "wh6s_5NR92el"
      },
      "execution_count": 6,
      "outputs": []
    },
    {
      "cell_type": "code",
      "source": [
        "for index, row in df.iterrows():\n",
        "  if math.isnan(float(row['review/time'])):\n",
        "    df = df.drop(index)\n",
        "\n",
        "df = df.reset_index(drop=True)\n",
        "\n",
        "new_headers = ['Product ID', 'User ID', 'Profile Name', 'Helpfulness', 'Score', 'Time', 'Summary', 'Text']\n",
        "\n",
        "df.columns = new_headers"
      ],
      "metadata": {
        "id": "CVFWhz-989gf"
      },
      "execution_count": 131,
      "outputs": []
    },
    {
      "cell_type": "code",
      "source": [
        "for index, row in df.iterrows():\n",
        "  df.at[index, 'Score'] = int(float(row['Score']))"
      ],
      "metadata": {
        "id": "6-bqGmpTtD3B"
      },
      "execution_count": 132,
      "outputs": []
    },
    {
      "cell_type": "markdown",
      "source": [
        "Hashing function"
      ],
      "metadata": {
        "id": "3FoPWwPwviKj"
      }
    },
    {
      "cell_type": "code",
      "source": [
        "import hashlib as hl\n",
        "\n",
        "def hash_user_id(user_id):\n",
        "    return int(hl.sha256(user_id.encode('utf-8')).hexdigest(), 16) % 10**8"
      ],
      "metadata": {
        "id": "R29wikNr-5R4"
      },
      "execution_count": 8,
      "outputs": []
    },
    {
      "cell_type": "markdown",
      "source": [
        "Before trying a NLP model, seeing if the length of the review has any effect"
      ],
      "metadata": {
        "id": "9jJTycOmFCve"
      }
    },
    {
      "cell_type": "code",
      "source": [
        "def numerize_df(df):\n",
        "  for index, row in df.iterrows():\n",
        "    df.at[index, 'Hashed ID'] = hash_user_id(df.at[index, 'User ID'])\n",
        "\n",
        "    if '\"' in row['Profile Name']:\n",
        "      df.at[index, 'Has Nickname'] = 1\n",
        "    else:\n",
        "      df.at[index, 'Has Nickname'] = 0\n",
        "\n",
        "    df.at[index, 'Summary Length'] = len(row['Summary'])\n",
        "    df.at[index, 'Text Length'] = len(row['Text'])\n",
        "\n",
        "  return df"
      ],
      "metadata": {
        "id": "duE8uosjvjuI"
      },
      "execution_count": 135,
      "outputs": []
    },
    {
      "cell_type": "code",
      "source": [
        "df = numerize_df(df)"
      ],
      "metadata": {
        "id": "ie99htazPfB2"
      },
      "execution_count": 136,
      "outputs": []
    },
    {
      "cell_type": "code",
      "source": [
        "columns_for_numeric = ['Score', 'Hashed ID', 'Has Nickname', 'Time', 'Summary Length', 'Text Length']\n",
        "numeric_df = df[columns_for_numeric]\n",
        "\n",
        "numeric_df = numeric_df.astype(float)"
      ],
      "metadata": {
        "id": "-CJdP_i0wHDH"
      },
      "execution_count": 138,
      "outputs": []
    },
    {
      "cell_type": "code",
      "source": [
        "orig_numeric_df = numeric_df.copy()\n",
        "\n",
        "columns_to_edit = ['Hashed ID', 'Has Nickname', 'Time', 'Summary Length', 'Text Length']\n",
        "\n",
        "for column in columns_to_edit:\n",
        "  lowest = min(numeric_df[column])\n",
        "\n",
        "  numeric_df[column] -= lowest"
      ],
      "metadata": {
        "id": "8J3pFjf-8oo0"
      },
      "execution_count": 139,
      "outputs": []
    },
    {
      "cell_type": "code",
      "source": [
        "numeric_df"
      ],
      "metadata": {
        "colab": {
          "base_uri": "https://localhost:8080/",
          "height": 423
        },
        "id": "xdjC5ZP7HWqE",
        "outputId": "a93529c2-3c0f-4782-9387-a7796621eafb"
      },
      "execution_count": 140,
      "outputs": [
        {
          "output_type": "execute_result",
          "data": {
            "text/plain": [
              "      Score   Hashed ID  Has Nickname         Time  Summary Length  \\\n",
              "0       5.0  92583352.0           0.0  342144000.0            20.0   \n",
              "1       1.0  89551015.0           0.0  385257600.0            16.0   \n",
              "2       4.0  68815001.0           1.0  257299200.0            20.0   \n",
              "3       2.0   2470041.0           0.0  346204800.0            13.0   \n",
              "4       5.0   9853436.0           1.0  389059200.0            10.0   \n",
              "...     ...         ...           ...          ...             ...   \n",
              "1995    5.0  78773042.0           0.0  304128000.0            29.0   \n",
              "1996    5.0  32593894.0           1.0  318211200.0            29.0   \n",
              "1997    4.0  80049914.0           1.0  288921600.0            13.0   \n",
              "1998    4.0  82034771.0           0.0  304041600.0            26.0   \n",
              "1999    5.0  35682238.0           1.0  245116800.0            21.0   \n",
              "\n",
              "      Text Length  \n",
              "0           206.0  \n",
              "1           133.0  \n",
              "2           452.0  \n",
              "3           162.0  \n",
              "4            83.0  \n",
              "...           ...  \n",
              "1995        362.0  \n",
              "1996       1673.0  \n",
              "1997        218.0  \n",
              "1998        388.0  \n",
              "1999         76.0  \n",
              "\n",
              "[2000 rows x 6 columns]"
            ],
            "text/html": [
              "\n",
              "  <div id=\"df-1b9cbfdb-be14-4658-9209-9e39b03755aa\" class=\"colab-df-container\">\n",
              "    <div>\n",
              "<style scoped>\n",
              "    .dataframe tbody tr th:only-of-type {\n",
              "        vertical-align: middle;\n",
              "    }\n",
              "\n",
              "    .dataframe tbody tr th {\n",
              "        vertical-align: top;\n",
              "    }\n",
              "\n",
              "    .dataframe thead th {\n",
              "        text-align: right;\n",
              "    }\n",
              "</style>\n",
              "<table border=\"1\" class=\"dataframe\">\n",
              "  <thead>\n",
              "    <tr style=\"text-align: right;\">\n",
              "      <th></th>\n",
              "      <th>Score</th>\n",
              "      <th>Hashed ID</th>\n",
              "      <th>Has Nickname</th>\n",
              "      <th>Time</th>\n",
              "      <th>Summary Length</th>\n",
              "      <th>Text Length</th>\n",
              "    </tr>\n",
              "  </thead>\n",
              "  <tbody>\n",
              "    <tr>\n",
              "      <th>0</th>\n",
              "      <td>5.0</td>\n",
              "      <td>92583352.0</td>\n",
              "      <td>0.0</td>\n",
              "      <td>342144000.0</td>\n",
              "      <td>20.0</td>\n",
              "      <td>206.0</td>\n",
              "    </tr>\n",
              "    <tr>\n",
              "      <th>1</th>\n",
              "      <td>1.0</td>\n",
              "      <td>89551015.0</td>\n",
              "      <td>0.0</td>\n",
              "      <td>385257600.0</td>\n",
              "      <td>16.0</td>\n",
              "      <td>133.0</td>\n",
              "    </tr>\n",
              "    <tr>\n",
              "      <th>2</th>\n",
              "      <td>4.0</td>\n",
              "      <td>68815001.0</td>\n",
              "      <td>1.0</td>\n",
              "      <td>257299200.0</td>\n",
              "      <td>20.0</td>\n",
              "      <td>452.0</td>\n",
              "    </tr>\n",
              "    <tr>\n",
              "      <th>3</th>\n",
              "      <td>2.0</td>\n",
              "      <td>2470041.0</td>\n",
              "      <td>0.0</td>\n",
              "      <td>346204800.0</td>\n",
              "      <td>13.0</td>\n",
              "      <td>162.0</td>\n",
              "    </tr>\n",
              "    <tr>\n",
              "      <th>4</th>\n",
              "      <td>5.0</td>\n",
              "      <td>9853436.0</td>\n",
              "      <td>1.0</td>\n",
              "      <td>389059200.0</td>\n",
              "      <td>10.0</td>\n",
              "      <td>83.0</td>\n",
              "    </tr>\n",
              "    <tr>\n",
              "      <th>...</th>\n",
              "      <td>...</td>\n",
              "      <td>...</td>\n",
              "      <td>...</td>\n",
              "      <td>...</td>\n",
              "      <td>...</td>\n",
              "      <td>...</td>\n",
              "    </tr>\n",
              "    <tr>\n",
              "      <th>1995</th>\n",
              "      <td>5.0</td>\n",
              "      <td>78773042.0</td>\n",
              "      <td>0.0</td>\n",
              "      <td>304128000.0</td>\n",
              "      <td>29.0</td>\n",
              "      <td>362.0</td>\n",
              "    </tr>\n",
              "    <tr>\n",
              "      <th>1996</th>\n",
              "      <td>5.0</td>\n",
              "      <td>32593894.0</td>\n",
              "      <td>1.0</td>\n",
              "      <td>318211200.0</td>\n",
              "      <td>29.0</td>\n",
              "      <td>1673.0</td>\n",
              "    </tr>\n",
              "    <tr>\n",
              "      <th>1997</th>\n",
              "      <td>4.0</td>\n",
              "      <td>80049914.0</td>\n",
              "      <td>1.0</td>\n",
              "      <td>288921600.0</td>\n",
              "      <td>13.0</td>\n",
              "      <td>218.0</td>\n",
              "    </tr>\n",
              "    <tr>\n",
              "      <th>1998</th>\n",
              "      <td>4.0</td>\n",
              "      <td>82034771.0</td>\n",
              "      <td>0.0</td>\n",
              "      <td>304041600.0</td>\n",
              "      <td>26.0</td>\n",
              "      <td>388.0</td>\n",
              "    </tr>\n",
              "    <tr>\n",
              "      <th>1999</th>\n",
              "      <td>5.0</td>\n",
              "      <td>35682238.0</td>\n",
              "      <td>1.0</td>\n",
              "      <td>245116800.0</td>\n",
              "      <td>21.0</td>\n",
              "      <td>76.0</td>\n",
              "    </tr>\n",
              "  </tbody>\n",
              "</table>\n",
              "<p>2000 rows × 6 columns</p>\n",
              "</div>\n",
              "    <div class=\"colab-df-buttons\">\n",
              "\n",
              "  <div class=\"colab-df-container\">\n",
              "    <button class=\"colab-df-convert\" onclick=\"convertToInteractive('df-1b9cbfdb-be14-4658-9209-9e39b03755aa')\"\n",
              "            title=\"Convert this dataframe to an interactive table.\"\n",
              "            style=\"display:none;\">\n",
              "\n",
              "  <svg xmlns=\"http://www.w3.org/2000/svg\" height=\"24px\" viewBox=\"0 -960 960 960\">\n",
              "    <path d=\"M120-120v-720h720v720H120Zm60-500h600v-160H180v160Zm220 220h160v-160H400v160Zm0 220h160v-160H400v160ZM180-400h160v-160H180v160Zm440 0h160v-160H620v160ZM180-180h160v-160H180v160Zm440 0h160v-160H620v160Z\"/>\n",
              "  </svg>\n",
              "    </button>\n",
              "\n",
              "  <style>\n",
              "    .colab-df-container {\n",
              "      display:flex;\n",
              "      gap: 12px;\n",
              "    }\n",
              "\n",
              "    .colab-df-convert {\n",
              "      background-color: #E8F0FE;\n",
              "      border: none;\n",
              "      border-radius: 50%;\n",
              "      cursor: pointer;\n",
              "      display: none;\n",
              "      fill: #1967D2;\n",
              "      height: 32px;\n",
              "      padding: 0 0 0 0;\n",
              "      width: 32px;\n",
              "    }\n",
              "\n",
              "    .colab-df-convert:hover {\n",
              "      background-color: #E2EBFA;\n",
              "      box-shadow: 0px 1px 2px rgba(60, 64, 67, 0.3), 0px 1px 3px 1px rgba(60, 64, 67, 0.15);\n",
              "      fill: #174EA6;\n",
              "    }\n",
              "\n",
              "    .colab-df-buttons div {\n",
              "      margin-bottom: 4px;\n",
              "    }\n",
              "\n",
              "    [theme=dark] .colab-df-convert {\n",
              "      background-color: #3B4455;\n",
              "      fill: #D2E3FC;\n",
              "    }\n",
              "\n",
              "    [theme=dark] .colab-df-convert:hover {\n",
              "      background-color: #434B5C;\n",
              "      box-shadow: 0px 1px 3px 1px rgba(0, 0, 0, 0.15);\n",
              "      filter: drop-shadow(0px 1px 2px rgba(0, 0, 0, 0.3));\n",
              "      fill: #FFFFFF;\n",
              "    }\n",
              "  </style>\n",
              "\n",
              "    <script>\n",
              "      const buttonEl =\n",
              "        document.querySelector('#df-1b9cbfdb-be14-4658-9209-9e39b03755aa button.colab-df-convert');\n",
              "      buttonEl.style.display =\n",
              "        google.colab.kernel.accessAllowed ? 'block' : 'none';\n",
              "\n",
              "      async function convertToInteractive(key) {\n",
              "        const element = document.querySelector('#df-1b9cbfdb-be14-4658-9209-9e39b03755aa');\n",
              "        const dataTable =\n",
              "          await google.colab.kernel.invokeFunction('convertToInteractive',\n",
              "                                                    [key], {});\n",
              "        if (!dataTable) return;\n",
              "\n",
              "        const docLinkHtml = 'Like what you see? Visit the ' +\n",
              "          '<a target=\"_blank\" href=https://colab.research.google.com/notebooks/data_table.ipynb>data table notebook</a>'\n",
              "          + ' to learn more about interactive tables.';\n",
              "        element.innerHTML = '';\n",
              "        dataTable['output_type'] = 'display_data';\n",
              "        await google.colab.output.renderOutput(dataTable, element);\n",
              "        const docLink = document.createElement('div');\n",
              "        docLink.innerHTML = docLinkHtml;\n",
              "        element.appendChild(docLink);\n",
              "      }\n",
              "    </script>\n",
              "  </div>\n",
              "\n",
              "\n",
              "<div id=\"df-cb4f5060-2c80-448f-93a5-ffb1307fa681\">\n",
              "  <button class=\"colab-df-quickchart\" onclick=\"quickchart('df-cb4f5060-2c80-448f-93a5-ffb1307fa681')\"\n",
              "            title=\"Suggest charts\"\n",
              "            style=\"display:none;\">\n",
              "\n",
              "<svg xmlns=\"http://www.w3.org/2000/svg\" height=\"24px\"viewBox=\"0 0 24 24\"\n",
              "     width=\"24px\">\n",
              "    <g>\n",
              "        <path d=\"M19 3H5c-1.1 0-2 .9-2 2v14c0 1.1.9 2 2 2h14c1.1 0 2-.9 2-2V5c0-1.1-.9-2-2-2zM9 17H7v-7h2v7zm4 0h-2V7h2v10zm4 0h-2v-4h2v4z\"/>\n",
              "    </g>\n",
              "</svg>\n",
              "  </button>\n",
              "\n",
              "<style>\n",
              "  .colab-df-quickchart {\n",
              "      --bg-color: #E8F0FE;\n",
              "      --fill-color: #1967D2;\n",
              "      --hover-bg-color: #E2EBFA;\n",
              "      --hover-fill-color: #174EA6;\n",
              "      --disabled-fill-color: #AAA;\n",
              "      --disabled-bg-color: #DDD;\n",
              "  }\n",
              "\n",
              "  [theme=dark] .colab-df-quickchart {\n",
              "      --bg-color: #3B4455;\n",
              "      --fill-color: #D2E3FC;\n",
              "      --hover-bg-color: #434B5C;\n",
              "      --hover-fill-color: #FFFFFF;\n",
              "      --disabled-bg-color: #3B4455;\n",
              "      --disabled-fill-color: #666;\n",
              "  }\n",
              "\n",
              "  .colab-df-quickchart {\n",
              "    background-color: var(--bg-color);\n",
              "    border: none;\n",
              "    border-radius: 50%;\n",
              "    cursor: pointer;\n",
              "    display: none;\n",
              "    fill: var(--fill-color);\n",
              "    height: 32px;\n",
              "    padding: 0;\n",
              "    width: 32px;\n",
              "  }\n",
              "\n",
              "  .colab-df-quickchart:hover {\n",
              "    background-color: var(--hover-bg-color);\n",
              "    box-shadow: 0 1px 2px rgba(60, 64, 67, 0.3), 0 1px 3px 1px rgba(60, 64, 67, 0.15);\n",
              "    fill: var(--button-hover-fill-color);\n",
              "  }\n",
              "\n",
              "  .colab-df-quickchart-complete:disabled,\n",
              "  .colab-df-quickchart-complete:disabled:hover {\n",
              "    background-color: var(--disabled-bg-color);\n",
              "    fill: var(--disabled-fill-color);\n",
              "    box-shadow: none;\n",
              "  }\n",
              "\n",
              "  .colab-df-spinner {\n",
              "    border: 2px solid var(--fill-color);\n",
              "    border-color: transparent;\n",
              "    border-bottom-color: var(--fill-color);\n",
              "    animation:\n",
              "      spin 1s steps(1) infinite;\n",
              "  }\n",
              "\n",
              "  @keyframes spin {\n",
              "    0% {\n",
              "      border-color: transparent;\n",
              "      border-bottom-color: var(--fill-color);\n",
              "      border-left-color: var(--fill-color);\n",
              "    }\n",
              "    20% {\n",
              "      border-color: transparent;\n",
              "      border-left-color: var(--fill-color);\n",
              "      border-top-color: var(--fill-color);\n",
              "    }\n",
              "    30% {\n",
              "      border-color: transparent;\n",
              "      border-left-color: var(--fill-color);\n",
              "      border-top-color: var(--fill-color);\n",
              "      border-right-color: var(--fill-color);\n",
              "    }\n",
              "    40% {\n",
              "      border-color: transparent;\n",
              "      border-right-color: var(--fill-color);\n",
              "      border-top-color: var(--fill-color);\n",
              "    }\n",
              "    60% {\n",
              "      border-color: transparent;\n",
              "      border-right-color: var(--fill-color);\n",
              "    }\n",
              "    80% {\n",
              "      border-color: transparent;\n",
              "      border-right-color: var(--fill-color);\n",
              "      border-bottom-color: var(--fill-color);\n",
              "    }\n",
              "    90% {\n",
              "      border-color: transparent;\n",
              "      border-bottom-color: var(--fill-color);\n",
              "    }\n",
              "  }\n",
              "</style>\n",
              "\n",
              "  <script>\n",
              "    async function quickchart(key) {\n",
              "      const quickchartButtonEl =\n",
              "        document.querySelector('#' + key + ' button');\n",
              "      quickchartButtonEl.disabled = true;  // To prevent multiple clicks.\n",
              "      quickchartButtonEl.classList.add('colab-df-spinner');\n",
              "      try {\n",
              "        const charts = await google.colab.kernel.invokeFunction(\n",
              "            'suggestCharts', [key], {});\n",
              "      } catch (error) {\n",
              "        console.error('Error during call to suggestCharts:', error);\n",
              "      }\n",
              "      quickchartButtonEl.classList.remove('colab-df-spinner');\n",
              "      quickchartButtonEl.classList.add('colab-df-quickchart-complete');\n",
              "    }\n",
              "    (() => {\n",
              "      let quickchartButtonEl =\n",
              "        document.querySelector('#df-cb4f5060-2c80-448f-93a5-ffb1307fa681 button');\n",
              "      quickchartButtonEl.style.display =\n",
              "        google.colab.kernel.accessAllowed ? 'block' : 'none';\n",
              "    })();\n",
              "  </script>\n",
              "</div>\n",
              "    </div>\n",
              "  </div>\n"
            ]
          },
          "metadata": {},
          "execution_count": 140
        }
      ]
    },
    {
      "cell_type": "markdown",
      "source": [
        "Performing Naive Bayes on the numeric data"
      ],
      "metadata": {
        "id": "gLm-EpcHJpNz"
      }
    },
    {
      "cell_type": "code",
      "source": [
        "from sklearn.model_selection import train_test_split\n",
        "from sklearn.naive_bayes import GaussianNB\n",
        "\n",
        "target_column = 'Score'\n",
        "\n",
        "X = numeric_df.drop(target_column, axis=1)\n",
        "y = numeric_df[target_column]\n",
        "\n",
        "# Splitting the data into training and testing sets\n",
        "X_train, X_test, y_train, y_test = train_test_split(X, y, test_size=0.2, random_state=27)\n",
        "\n",
        "gnb = GaussianNB()\n",
        "\n",
        "# Testing\n",
        "y_pred = gnb.fit(X_train, y_train).predict(X_test)\n",
        "\n",
        "print(\"Number of mislabeled points out of a total of %d points: %d\" % (X_test.shape[0], (y_test != y_pred).sum()))"
      ],
      "metadata": {
        "colab": {
          "base_uri": "https://localhost:8080/"
        },
        "id": "WGDsrnhK8pQz",
        "outputId": "b0bb90ac-3503-49eb-baf1-6b22d7e3ab2d"
      },
      "execution_count": 142,
      "outputs": [
        {
          "output_type": "stream",
          "name": "stdout",
          "text": [
            "Number of mislabeled points out of a total of 400 points: 135\n"
          ]
        }
      ]
    },
    {
      "cell_type": "markdown",
      "source": [
        "This clearly isn't very accurate.  Let's try scaling the features to have the same mean and variance"
      ],
      "metadata": {
        "id": "nHLtubkke1IY"
      }
    },
    {
      "cell_type": "code",
      "source": [
        "scaled_df = pd.DataFrame()\n",
        "scaled_df['Score'] = numeric_df['Score']\n",
        "\n",
        "for column in columns_to_edit:\n",
        "  mean = numeric_df[column].mean()\n",
        "  std = numeric_df[column].std()\n",
        "\n",
        "  scaled_df[column] = numeric_df[column] - mean\n",
        "  scaled_df[column] /= std"
      ],
      "metadata": {
        "id": "cyiU6OkFJ5qD"
      },
      "execution_count": 143,
      "outputs": []
    },
    {
      "cell_type": "code",
      "source": [
        "scaled_df"
      ],
      "metadata": {
        "colab": {
          "base_uri": "https://localhost:8080/",
          "height": 423
        },
        "id": "Tq-eI2UoOA-S",
        "outputId": "f181ab7f-706b-4999-9c29-fd1fcb4c7824"
      },
      "execution_count": 144,
      "outputs": [
        {
          "output_type": "execute_result",
          "data": {
            "text/plain": [
              "      Score  Hashed ID  Has Nickname      Time  Summary Length  Text Length\n",
              "0       5.0   1.485565     -0.594911  0.254615       -0.128544    -0.340943\n",
              "1       1.0   1.379774     -0.594911  1.115581       -0.408368    -0.520830\n",
              "2       4.0   0.656344      1.680083 -1.439712       -0.128544     0.265252\n",
              "3       2.0  -1.658272     -0.594911  0.335708       -0.618236    -0.449368\n",
              "4       5.0  -1.400683      1.680083  1.191498       -0.828104    -0.644040\n",
              "...     ...        ...           ...       ...             ...          ...\n",
              "1995    5.0   1.003756     -0.594911 -0.504554        0.501060     0.043474\n",
              "1996    5.0  -0.607323      1.680083 -0.223316        0.501060     3.274048\n",
              "1997    4.0   1.048303      1.680083 -0.808221       -0.618236    -0.311372\n",
              "1998    4.0   1.117550     -0.594911 -0.506279        0.291192     0.107543\n",
              "1999    5.0  -0.499578      1.680083 -1.682991       -0.058588    -0.661290\n",
              "\n",
              "[2000 rows x 6 columns]"
            ],
            "text/html": [
              "\n",
              "  <div id=\"df-9e6056b3-ef19-4631-b0d5-9ebb6b186bdf\" class=\"colab-df-container\">\n",
              "    <div>\n",
              "<style scoped>\n",
              "    .dataframe tbody tr th:only-of-type {\n",
              "        vertical-align: middle;\n",
              "    }\n",
              "\n",
              "    .dataframe tbody tr th {\n",
              "        vertical-align: top;\n",
              "    }\n",
              "\n",
              "    .dataframe thead th {\n",
              "        text-align: right;\n",
              "    }\n",
              "</style>\n",
              "<table border=\"1\" class=\"dataframe\">\n",
              "  <thead>\n",
              "    <tr style=\"text-align: right;\">\n",
              "      <th></th>\n",
              "      <th>Score</th>\n",
              "      <th>Hashed ID</th>\n",
              "      <th>Has Nickname</th>\n",
              "      <th>Time</th>\n",
              "      <th>Summary Length</th>\n",
              "      <th>Text Length</th>\n",
              "    </tr>\n",
              "  </thead>\n",
              "  <tbody>\n",
              "    <tr>\n",
              "      <th>0</th>\n",
              "      <td>5.0</td>\n",
              "      <td>1.485565</td>\n",
              "      <td>-0.594911</td>\n",
              "      <td>0.254615</td>\n",
              "      <td>-0.128544</td>\n",
              "      <td>-0.340943</td>\n",
              "    </tr>\n",
              "    <tr>\n",
              "      <th>1</th>\n",
              "      <td>1.0</td>\n",
              "      <td>1.379774</td>\n",
              "      <td>-0.594911</td>\n",
              "      <td>1.115581</td>\n",
              "      <td>-0.408368</td>\n",
              "      <td>-0.520830</td>\n",
              "    </tr>\n",
              "    <tr>\n",
              "      <th>2</th>\n",
              "      <td>4.0</td>\n",
              "      <td>0.656344</td>\n",
              "      <td>1.680083</td>\n",
              "      <td>-1.439712</td>\n",
              "      <td>-0.128544</td>\n",
              "      <td>0.265252</td>\n",
              "    </tr>\n",
              "    <tr>\n",
              "      <th>3</th>\n",
              "      <td>2.0</td>\n",
              "      <td>-1.658272</td>\n",
              "      <td>-0.594911</td>\n",
              "      <td>0.335708</td>\n",
              "      <td>-0.618236</td>\n",
              "      <td>-0.449368</td>\n",
              "    </tr>\n",
              "    <tr>\n",
              "      <th>4</th>\n",
              "      <td>5.0</td>\n",
              "      <td>-1.400683</td>\n",
              "      <td>1.680083</td>\n",
              "      <td>1.191498</td>\n",
              "      <td>-0.828104</td>\n",
              "      <td>-0.644040</td>\n",
              "    </tr>\n",
              "    <tr>\n",
              "      <th>...</th>\n",
              "      <td>...</td>\n",
              "      <td>...</td>\n",
              "      <td>...</td>\n",
              "      <td>...</td>\n",
              "      <td>...</td>\n",
              "      <td>...</td>\n",
              "    </tr>\n",
              "    <tr>\n",
              "      <th>1995</th>\n",
              "      <td>5.0</td>\n",
              "      <td>1.003756</td>\n",
              "      <td>-0.594911</td>\n",
              "      <td>-0.504554</td>\n",
              "      <td>0.501060</td>\n",
              "      <td>0.043474</td>\n",
              "    </tr>\n",
              "    <tr>\n",
              "      <th>1996</th>\n",
              "      <td>5.0</td>\n",
              "      <td>-0.607323</td>\n",
              "      <td>1.680083</td>\n",
              "      <td>-0.223316</td>\n",
              "      <td>0.501060</td>\n",
              "      <td>3.274048</td>\n",
              "    </tr>\n",
              "    <tr>\n",
              "      <th>1997</th>\n",
              "      <td>4.0</td>\n",
              "      <td>1.048303</td>\n",
              "      <td>1.680083</td>\n",
              "      <td>-0.808221</td>\n",
              "      <td>-0.618236</td>\n",
              "      <td>-0.311372</td>\n",
              "    </tr>\n",
              "    <tr>\n",
              "      <th>1998</th>\n",
              "      <td>4.0</td>\n",
              "      <td>1.117550</td>\n",
              "      <td>-0.594911</td>\n",
              "      <td>-0.506279</td>\n",
              "      <td>0.291192</td>\n",
              "      <td>0.107543</td>\n",
              "    </tr>\n",
              "    <tr>\n",
              "      <th>1999</th>\n",
              "      <td>5.0</td>\n",
              "      <td>-0.499578</td>\n",
              "      <td>1.680083</td>\n",
              "      <td>-1.682991</td>\n",
              "      <td>-0.058588</td>\n",
              "      <td>-0.661290</td>\n",
              "    </tr>\n",
              "  </tbody>\n",
              "</table>\n",
              "<p>2000 rows × 6 columns</p>\n",
              "</div>\n",
              "    <div class=\"colab-df-buttons\">\n",
              "\n",
              "  <div class=\"colab-df-container\">\n",
              "    <button class=\"colab-df-convert\" onclick=\"convertToInteractive('df-9e6056b3-ef19-4631-b0d5-9ebb6b186bdf')\"\n",
              "            title=\"Convert this dataframe to an interactive table.\"\n",
              "            style=\"display:none;\">\n",
              "\n",
              "  <svg xmlns=\"http://www.w3.org/2000/svg\" height=\"24px\" viewBox=\"0 -960 960 960\">\n",
              "    <path d=\"M120-120v-720h720v720H120Zm60-500h600v-160H180v160Zm220 220h160v-160H400v160Zm0 220h160v-160H400v160ZM180-400h160v-160H180v160Zm440 0h160v-160H620v160ZM180-180h160v-160H180v160Zm440 0h160v-160H620v160Z\"/>\n",
              "  </svg>\n",
              "    </button>\n",
              "\n",
              "  <style>\n",
              "    .colab-df-container {\n",
              "      display:flex;\n",
              "      gap: 12px;\n",
              "    }\n",
              "\n",
              "    .colab-df-convert {\n",
              "      background-color: #E8F0FE;\n",
              "      border: none;\n",
              "      border-radius: 50%;\n",
              "      cursor: pointer;\n",
              "      display: none;\n",
              "      fill: #1967D2;\n",
              "      height: 32px;\n",
              "      padding: 0 0 0 0;\n",
              "      width: 32px;\n",
              "    }\n",
              "\n",
              "    .colab-df-convert:hover {\n",
              "      background-color: #E2EBFA;\n",
              "      box-shadow: 0px 1px 2px rgba(60, 64, 67, 0.3), 0px 1px 3px 1px rgba(60, 64, 67, 0.15);\n",
              "      fill: #174EA6;\n",
              "    }\n",
              "\n",
              "    .colab-df-buttons div {\n",
              "      margin-bottom: 4px;\n",
              "    }\n",
              "\n",
              "    [theme=dark] .colab-df-convert {\n",
              "      background-color: #3B4455;\n",
              "      fill: #D2E3FC;\n",
              "    }\n",
              "\n",
              "    [theme=dark] .colab-df-convert:hover {\n",
              "      background-color: #434B5C;\n",
              "      box-shadow: 0px 1px 3px 1px rgba(0, 0, 0, 0.15);\n",
              "      filter: drop-shadow(0px 1px 2px rgba(0, 0, 0, 0.3));\n",
              "      fill: #FFFFFF;\n",
              "    }\n",
              "  </style>\n",
              "\n",
              "    <script>\n",
              "      const buttonEl =\n",
              "        document.querySelector('#df-9e6056b3-ef19-4631-b0d5-9ebb6b186bdf button.colab-df-convert');\n",
              "      buttonEl.style.display =\n",
              "        google.colab.kernel.accessAllowed ? 'block' : 'none';\n",
              "\n",
              "      async function convertToInteractive(key) {\n",
              "        const element = document.querySelector('#df-9e6056b3-ef19-4631-b0d5-9ebb6b186bdf');\n",
              "        const dataTable =\n",
              "          await google.colab.kernel.invokeFunction('convertToInteractive',\n",
              "                                                    [key], {});\n",
              "        if (!dataTable) return;\n",
              "\n",
              "        const docLinkHtml = 'Like what you see? Visit the ' +\n",
              "          '<a target=\"_blank\" href=https://colab.research.google.com/notebooks/data_table.ipynb>data table notebook</a>'\n",
              "          + ' to learn more about interactive tables.';\n",
              "        element.innerHTML = '';\n",
              "        dataTable['output_type'] = 'display_data';\n",
              "        await google.colab.output.renderOutput(dataTable, element);\n",
              "        const docLink = document.createElement('div');\n",
              "        docLink.innerHTML = docLinkHtml;\n",
              "        element.appendChild(docLink);\n",
              "      }\n",
              "    </script>\n",
              "  </div>\n",
              "\n",
              "\n",
              "<div id=\"df-81f1663d-7ad3-432b-b622-9116041e81b1\">\n",
              "  <button class=\"colab-df-quickchart\" onclick=\"quickchart('df-81f1663d-7ad3-432b-b622-9116041e81b1')\"\n",
              "            title=\"Suggest charts\"\n",
              "            style=\"display:none;\">\n",
              "\n",
              "<svg xmlns=\"http://www.w3.org/2000/svg\" height=\"24px\"viewBox=\"0 0 24 24\"\n",
              "     width=\"24px\">\n",
              "    <g>\n",
              "        <path d=\"M19 3H5c-1.1 0-2 .9-2 2v14c0 1.1.9 2 2 2h14c1.1 0 2-.9 2-2V5c0-1.1-.9-2-2-2zM9 17H7v-7h2v7zm4 0h-2V7h2v10zm4 0h-2v-4h2v4z\"/>\n",
              "    </g>\n",
              "</svg>\n",
              "  </button>\n",
              "\n",
              "<style>\n",
              "  .colab-df-quickchart {\n",
              "      --bg-color: #E8F0FE;\n",
              "      --fill-color: #1967D2;\n",
              "      --hover-bg-color: #E2EBFA;\n",
              "      --hover-fill-color: #174EA6;\n",
              "      --disabled-fill-color: #AAA;\n",
              "      --disabled-bg-color: #DDD;\n",
              "  }\n",
              "\n",
              "  [theme=dark] .colab-df-quickchart {\n",
              "      --bg-color: #3B4455;\n",
              "      --fill-color: #D2E3FC;\n",
              "      --hover-bg-color: #434B5C;\n",
              "      --hover-fill-color: #FFFFFF;\n",
              "      --disabled-bg-color: #3B4455;\n",
              "      --disabled-fill-color: #666;\n",
              "  }\n",
              "\n",
              "  .colab-df-quickchart {\n",
              "    background-color: var(--bg-color);\n",
              "    border: none;\n",
              "    border-radius: 50%;\n",
              "    cursor: pointer;\n",
              "    display: none;\n",
              "    fill: var(--fill-color);\n",
              "    height: 32px;\n",
              "    padding: 0;\n",
              "    width: 32px;\n",
              "  }\n",
              "\n",
              "  .colab-df-quickchart:hover {\n",
              "    background-color: var(--hover-bg-color);\n",
              "    box-shadow: 0 1px 2px rgba(60, 64, 67, 0.3), 0 1px 3px 1px rgba(60, 64, 67, 0.15);\n",
              "    fill: var(--button-hover-fill-color);\n",
              "  }\n",
              "\n",
              "  .colab-df-quickchart-complete:disabled,\n",
              "  .colab-df-quickchart-complete:disabled:hover {\n",
              "    background-color: var(--disabled-bg-color);\n",
              "    fill: var(--disabled-fill-color);\n",
              "    box-shadow: none;\n",
              "  }\n",
              "\n",
              "  .colab-df-spinner {\n",
              "    border: 2px solid var(--fill-color);\n",
              "    border-color: transparent;\n",
              "    border-bottom-color: var(--fill-color);\n",
              "    animation:\n",
              "      spin 1s steps(1) infinite;\n",
              "  }\n",
              "\n",
              "  @keyframes spin {\n",
              "    0% {\n",
              "      border-color: transparent;\n",
              "      border-bottom-color: var(--fill-color);\n",
              "      border-left-color: var(--fill-color);\n",
              "    }\n",
              "    20% {\n",
              "      border-color: transparent;\n",
              "      border-left-color: var(--fill-color);\n",
              "      border-top-color: var(--fill-color);\n",
              "    }\n",
              "    30% {\n",
              "      border-color: transparent;\n",
              "      border-left-color: var(--fill-color);\n",
              "      border-top-color: var(--fill-color);\n",
              "      border-right-color: var(--fill-color);\n",
              "    }\n",
              "    40% {\n",
              "      border-color: transparent;\n",
              "      border-right-color: var(--fill-color);\n",
              "      border-top-color: var(--fill-color);\n",
              "    }\n",
              "    60% {\n",
              "      border-color: transparent;\n",
              "      border-right-color: var(--fill-color);\n",
              "    }\n",
              "    80% {\n",
              "      border-color: transparent;\n",
              "      border-right-color: var(--fill-color);\n",
              "      border-bottom-color: var(--fill-color);\n",
              "    }\n",
              "    90% {\n",
              "      border-color: transparent;\n",
              "      border-bottom-color: var(--fill-color);\n",
              "    }\n",
              "  }\n",
              "</style>\n",
              "\n",
              "  <script>\n",
              "    async function quickchart(key) {\n",
              "      const quickchartButtonEl =\n",
              "        document.querySelector('#' + key + ' button');\n",
              "      quickchartButtonEl.disabled = true;  // To prevent multiple clicks.\n",
              "      quickchartButtonEl.classList.add('colab-df-spinner');\n",
              "      try {\n",
              "        const charts = await google.colab.kernel.invokeFunction(\n",
              "            'suggestCharts', [key], {});\n",
              "      } catch (error) {\n",
              "        console.error('Error during call to suggestCharts:', error);\n",
              "      }\n",
              "      quickchartButtonEl.classList.remove('colab-df-spinner');\n",
              "      quickchartButtonEl.classList.add('colab-df-quickchart-complete');\n",
              "    }\n",
              "    (() => {\n",
              "      let quickchartButtonEl =\n",
              "        document.querySelector('#df-81f1663d-7ad3-432b-b622-9116041e81b1 button');\n",
              "      quickchartButtonEl.style.display =\n",
              "        google.colab.kernel.accessAllowed ? 'block' : 'none';\n",
              "    })();\n",
              "  </script>\n",
              "</div>\n",
              "    </div>\n",
              "  </div>\n"
            ]
          },
          "metadata": {},
          "execution_count": 144
        }
      ]
    },
    {
      "cell_type": "markdown",
      "source": [
        "Trying Naive Bayes again"
      ],
      "metadata": {
        "id": "cFMNu1N-fGA5"
      }
    },
    {
      "cell_type": "code",
      "source": [
        "X = scaled_df.drop(target_column, axis=1)\n",
        "y = scaled_df[target_column]\n",
        "\n",
        "# Splitting the data into training and testing sets\n",
        "X_train, X_test, y_train, y_test = train_test_split(X, y, test_size=0.2, random_state=27)\n",
        "\n",
        "# Testing\n",
        "y_pred = gnb.fit(X_train, y_train).predict(X_test)\n",
        "\n",
        "print(\"Number of mislabeled points out of a total of %d points: %d\" % (X_test.shape[0], (y_test != y_pred).sum()))"
      ],
      "metadata": {
        "colab": {
          "base_uri": "https://localhost:8080/"
        },
        "id": "q5ewj0VhOBjO",
        "outputId": "a61b50aa-f6e9-4a6f-f3d4-a2d75dc8b351"
      },
      "execution_count": 145,
      "outputs": [
        {
          "output_type": "stream",
          "name": "stdout",
          "text": [
            "Number of mislabeled points out of a total of 400 points: 147\n"
          ]
        }
      ]
    },
    {
      "cell_type": "markdown",
      "source": [
        "This is actually even less accurate.  Time to try using Natural Language Processing for the review summary and text"
      ],
      "metadata": {
        "id": "ylZyedAdyKBo"
      }
    },
    {
      "cell_type": "code",
      "source": [
        "import spacy as sp\n",
        "from textblob import TextBlob"
      ],
      "metadata": {
        "id": "GRUXj5OBkfBy"
      },
      "execution_count": 29,
      "outputs": []
    },
    {
      "cell_type": "markdown",
      "source": [
        "First step is to define a function to analyze the sentiment of a string (to be used both for the review and title of the review)."
      ],
      "metadata": {
        "id": "VCgb3da0gYOL"
      }
    },
    {
      "cell_type": "code",
      "source": [
        "nlp = sp.load('en_core_web_sm')\n",
        "\n",
        "def analyze_sentiment(text):\n",
        "  doc = nlp(text)\n",
        "\n",
        "  lemmatized_text = \" \".join([token.lemma_ for token in doc])\n",
        "\n",
        "  blob = TextBlob(lemmatized_text)\n",
        "\n",
        "  sentiment_score = blob.sentiment.polarity\n",
        "\n",
        "  return sentiment_score"
      ],
      "metadata": {
        "id": "SFh7dOaIgY7a"
      },
      "execution_count": 74,
      "outputs": []
    },
    {
      "cell_type": "markdown",
      "source": [
        "Generating a sentiment score for each review"
      ],
      "metadata": {
        "id": "fPQ3RRrJkt7c"
      }
    },
    {
      "cell_type": "code",
      "source": [
        "for index, row in df.iterrows():\n",
        "  df.at[index, 'Text Sentiment'] = analyze_sentiment(row['Text'])\n",
        "  df.at[index, 'Summary Sentiment'] = analyze_sentiment(row['Summary'])"
      ],
      "metadata": {
        "id": "nJ6nhnswg4bU"
      },
      "execution_count": 146,
      "outputs": []
    },
    {
      "cell_type": "markdown",
      "source": [
        "Getting mean and standard deviation of these new values in preparation for scaling"
      ],
      "metadata": {
        "id": "KOLpDo0smKyt"
      }
    },
    {
      "cell_type": "code",
      "source": [
        "means = [df['Summary Sentiment'].mean(), df['Text Sentiment'].mean()]\n",
        "stds = [df['Summary Sentiment'].std(), df['Text Sentiment'].std()]"
      ],
      "metadata": {
        "id": "eIJQ26D5i2Pd"
      },
      "execution_count": 147,
      "outputs": []
    },
    {
      "cell_type": "markdown",
      "source": [
        "Scaling the sentiment values"
      ],
      "metadata": {
        "id": "oCoLuuG4nmDU"
      }
    },
    {
      "cell_type": "code",
      "source": [
        "for index, row in df.iterrows():\n",
        "  scaled_df.at[index, 'Summary Sentiment'] = (row['Summary Sentiment'] - means[0])/stds[0]\n",
        "  scaled_df.at[index, 'Text Sentiment'] = (row['Text Sentiment'] - means[1])/stds[1]"
      ],
      "metadata": {
        "id": "Dj173sq9ka6Z"
      },
      "execution_count": 148,
      "outputs": []
    },
    {
      "cell_type": "markdown",
      "source": [
        "Removing useless Summary and Text Length columns"
      ],
      "metadata": {
        "id": "j1UpfGOQn5iv"
      }
    },
    {
      "cell_type": "code",
      "source": [
        "new_scaled_df = scaled_df[['Score', 'Hashed ID', 'Has Nickname', 'Time', 'Summary Sentiment', 'Text Sentiment']]"
      ],
      "metadata": {
        "id": "K_HkpsOHz1ji"
      },
      "execution_count": 150,
      "outputs": []
    },
    {
      "cell_type": "markdown",
      "source": [],
      "metadata": {
        "id": "KFBcP4A80FRP"
      }
    },
    {
      "cell_type": "code",
      "source": [
        "X = new_scaled_df.drop(target_column, axis=1)\n",
        "y = new_scaled_df[target_column]\n",
        "\n",
        "# Splitting the data into training and testing sets\n",
        "X_train, X_test, y_train, y_test = train_test_split(X, y, test_size=0.2, random_state=27)\n",
        "\n",
        "# Testing\n",
        "y_pred = gnb.fit(X_train, y_train).predict(X_test)\n",
        "\n",
        "print(\"Number of mislabeled points out of a total of %d points: %d\" % (X_test.shape[0], (y_test != y_pred).sum()))"
      ],
      "metadata": {
        "colab": {
          "base_uri": "https://localhost:8080/"
        },
        "id": "FWV-Vf99niYo",
        "outputId": "dd1d0c17-09ee-4583-87a7-9d955c740126"
      },
      "execution_count": 152,
      "outputs": [
        {
          "output_type": "stream",
          "name": "stdout",
          "text": [
            "Number of mislabeled points out of a total of 400 points: 121\n"
          ]
        }
      ]
    },
    {
      "cell_type": "markdown",
      "source": [
        "**Conclusion**\n",
        "\n",
        "Extracted Features:\n",
        "\n",
        "-UserID: Nothing too helpful could be extracted from this; I simply hashed the text to get a numerical value.\n",
        "\n",
        "-Profile Name: I used a boolean operator that returned 1 if the profile included a nickname, 0 otherwise.\n",
        "\n",
        "-Time: No change made.\n",
        "\n",
        "\n",
        "Predictive information from reviews:\n",
        "I first tried using the character count for both the summary and review text, thinking that a longer review would indicate dissatisfaction with the product.  This did not lead to very accurate results, so I instead used a NLP model to determine the positive/negative sentiment of each review, with the help of SpaCY and TextBlob."
      ],
      "metadata": {
        "id": "RCwark981VXK"
      }
    }
  ]
}