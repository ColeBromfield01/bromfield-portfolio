{
  "nbformat": 4,
  "nbformat_minor": 0,
  "metadata": {
    "colab": {
      "provenance": []
    },
    "kernelspec": {
      "name": "python3",
      "display_name": "Python 3"
    },
    "language_info": {
      "name": "python"
    }
  },
  "cells": [
    {
      "cell_type": "markdown",
      "source": [
        "**Part 1**"
      ],
      "metadata": {
        "id": "9WSsv1Q7Pich"
      }
    },
    {
      "cell_type": "markdown",
      "source": [
        "*Step 1*"
      ],
      "metadata": {
        "id": "ktbidKuiPx3k"
      }
    },
    {
      "cell_type": "markdown",
      "source": [
        "Importing the libraries, and constructing a dataframe from the solar flare table"
      ],
      "metadata": {
        "id": "M7g3dohU00aS"
      }
    },
    {
      "cell_type": "code",
      "execution_count": null,
      "metadata": {
        "id": "sBJYBKwhdG7R",
        "colab": {
          "base_uri": "https://localhost:8080/"
        },
        "outputId": "90188909-1a28-4f84-d331-a848082a50e2"
      },
      "outputs": [
        {
          "output_type": "stream",
          "name": "stdout",
          "text": [
            "    rank x_classification        date  region start_time maximum_time  \\\n",
            "0      1             X28+  2003/11/04     486      19:29        19:53   \n",
            "1      2             X20+  2001/04/02    9393      21:32        21:51   \n",
            "2      3           X17.2+  2003/10/28     486      09:51        11:10   \n",
            "3      4             X17+  2005/09/07     808      17:17        17:40   \n",
            "4      5            X14.4  2001/04/15    9415      13:19        13:50   \n",
            "5      6              X10  2003/10/29     486      20:37        20:49   \n",
            "6      7             X9.4  1997/11/06    8100      11:49        11:55   \n",
            "7      8             X9.3  2017/09/06    2673      11:53        12:02   \n",
            "8      9               X9  2006/12/05     930      10:18        10:35   \n",
            "9     10             X8.3  2003/11/02     486      17:03        17:25   \n",
            "10    11             X8.2  2017/09/10    2673      15:35        16:06   \n",
            "11    12             X7.1  2005/01/20     720      06:36        07:01   \n",
            "12    13             X6.9  2011/08/09    1263      07:48        08:05   \n",
            "13    14             X6.5  2006/12/06     930      18:29        18:47   \n",
            "14    15             X6.2  2005/09/09     808      19:13        20:04   \n",
            "15    16             X6.2  2001/12/13    9733      14:20        14:30   \n",
            "16    17             X5.7  2000/07/14    9077      10:03        10:24   \n",
            "17    18             X5.6  2001/04/06    9415      19:10        19:21   \n",
            "18    19             X5.4  2012/03/07    1429      00:02        00:24   \n",
            "19    20             X5.4  2005/09/08     808      20:52        21:06   \n",
            "20    21             X5.4  2003/10/23     486      08:19        08:35   \n",
            "21    22             X5.3  2001/08/25    9591      16:23        16:45   \n",
            "22    23             X4.9  2014/02/25    1990      00:39        00:49   \n",
            "23    24             X4.9  1998/08/18    8307      22:10        22:19   \n",
            "24    25             X4.8  2002/07/23      39      00:18        00:35   \n",
            "25    26               X4  2000/11/26    9236      16:34        16:48   \n",
            "26    27             X3.9  2003/11/03     488      09:43        09:55   \n",
            "27    28             X3.9  1998/08/19    8307      21:35        21:45   \n",
            "28    29             X3.8  2005/01/17     720      06:59        09:52   \n",
            "29    30             X3.7  1998/11/22    8384      06:30        06:42   \n",
            "30    31             X3.6  2005/09/09     808      09:42        09:59   \n",
            "31    32             X3.6  2004/07/16     649      13:49        13:55   \n",
            "32    33             X3.6  2003/05/28     365      00:17        00:27   \n",
            "33    34             X3.4  2006/12/13     930      02:14        02:40   \n",
            "34    35             X3.4  2001/12/28    9767      20:02        20:45   \n",
            "35    36             X3.3  2013/11/05    1890      22:07        22:12   \n",
            "36    37             X3.3  2002/07/20      39      21:04        21:30   \n",
            "37    38             X3.3  1998/11/28    8395      04:54        05:52   \n",
            "38    39             X3.2  2013/05/14    1748      00:00        01:11   \n",
            "39    40             X3.1  2014/10/24    2192      21:07        21:41   \n",
            "40    41             X3.1  2002/08/24      69      00:49        01:12   \n",
            "41    42               X3  2002/07/15      30      19:59        20:08   \n",
            "42    43             X2.8  2013/05/13    1748      15:48        16:05   \n",
            "43    44             X2.8  2001/12/11    9733      07:58        08:08   \n",
            "44    45             X2.8  1998/08/18    8307      08:14        08:24   \n",
            "45    46             X2.7  2015/05/05    2339      22:05        22:11   \n",
            "46    47             X2.7  2003/11/03     488      01:09        01:30   \n",
            "47    48             X2.7  1998/05/06    8210      07:58        08:09   \n",
            "48    49             X2.6  2005/01/15     720      22:25        23:02   \n",
            "49    50             X2.6  2001/09/24    9632      09:32        10:38   \n",
            "\n",
            "   end_time              movie  \n",
            "0     20:06  MovieView archive  \n",
            "1     22:03  MovieView archive  \n",
            "2     11:24  MovieView archive  \n",
            "3     18:03  MovieView archive  \n",
            "4     13:55  MovieView archive  \n",
            "5     21:01  MovieView archive  \n",
            "6     12:01  MovieView archive  \n",
            "7     12:10  MovieView archive  \n",
            "8     10:45  MovieView archive  \n",
            "9     17:39  MovieView archive  \n",
            "10    16:31  MovieView archive  \n",
            "11    07:26  MovieView archive  \n",
            "12    08:08  MovieView archive  \n",
            "13    19:00  MovieView archive  \n",
            "14    20:36  MovieView archive  \n",
            "15    14:35  MovieView archive  \n",
            "16    10:43  MovieView archive  \n",
            "17    19:31  MovieView archive  \n",
            "18    00:40  MovieView archive  \n",
            "19    21:17  MovieView archive  \n",
            "20    08:49  MovieView archive  \n",
            "21    17:04  MovieView archive  \n",
            "22    01:03  MovieView archive  \n",
            "23    22:28       View archive  \n",
            "24    00:47  MovieView archive  \n",
            "25    16:56  MovieView archive  \n",
            "26    10:19  MovieView archive  \n",
            "27    21:50       View archive  \n",
            "28    10:07  MovieView archive  \n",
            "29    06:49  MovieView archive  \n",
            "30    10:08  MovieView archive  \n",
            "31    14:01  MovieView archive  \n",
            "32    00:39  MovieView archive  \n",
            "33    02:57  MovieView archive  \n",
            "34    21:32  MovieView archive  \n",
            "35    22:15  MovieView archive  \n",
            "36    21:54  MovieView archive  \n",
            "37    06:13  MovieView archive  \n",
            "38    01:20  MovieView archive  \n",
            "39    22:13  MovieView archive  \n",
            "40    01:31  MovieView archive  \n",
            "41    20:14  MovieView archive  \n",
            "42    16:16  MovieView archive  \n",
            "43    08:14  MovieView archive  \n",
            "44    08:32       View archive  \n",
            "45    22:15  MovieView archive  \n",
            "46    01:45  MovieView archive  \n",
            "47    08:20  MovieView archive  \n",
            "48    23:31  MovieView archive  \n",
            "49    11:09  MovieView archive  \n"
          ]
        }
      ],
      "source": [
        "# 1\n",
        "import numpy as np\n",
        "import pandas as pd\n",
        "import requests as req\n",
        "from bs4 import BeautifulSoup\n",
        "# 2\n",
        "url = 'https://web.archive.org/web/20201112015618/https://www.spaceweatherlive.com/en/solar-activity/top-50-solar-flares.html'\n",
        "response = req.get(url)\n",
        "# 3\n",
        "html_content = response.text\n",
        "# 4\n",
        "soup = BeautifulSoup(html_content, 'lxml')\n",
        "# 5\n",
        "prettify = soup.prettify()\n",
        "# 6\n",
        "table = soup.find('table', class_='table table-striped table-responsive-md')\n",
        "# 7\n",
        "df = pd.read_html(str(table), header=0)[0]\n",
        "# 8\n",
        "df.columns = ['rank', 'x_classification', 'date', 'region', 'start_time', 'maximum_time', 'end_time', 'movie']\n",
        "print(df)"
      ]
    },
    {
      "cell_type": "markdown",
      "source": [
        "*Step 2*"
      ],
      "metadata": {
        "id": "McdENswWR0C8"
      }
    },
    {
      "cell_type": "markdown",
      "source": [
        "Dropping the movie column"
      ],
      "metadata": {
        "id": "svcmFSMN06BB"
      }
    },
    {
      "cell_type": "code",
      "source": [
        "#1\n",
        "df = df.drop('movie', axis=1)"
      ],
      "metadata": {
        "id": "X572wGx5S8ap"
      },
      "execution_count": null,
      "outputs": []
    },
    {
      "cell_type": "markdown",
      "source": [
        "Cleaning up the dataframe"
      ],
      "metadata": {
        "id": "4i3p0JHY071I"
      }
    },
    {
      "cell_type": "code",
      "source": [
        "#2\n",
        "from datetime import datetime\n",
        "\n",
        "df['start_datetime'] = None\n",
        "df['max_datetime'] = None\n",
        "df['end_datetime'] = None\n",
        "\n",
        "for index, row in df.iterrows():\n",
        "  date_time_str = row['date'] + \" \" + row['start_time']\n",
        "  date_time_obj = datetime.fromisoformat(date_time_str.replace('/', '-'))\n",
        "  df.at[index, 'start_datetime'] = date_time_obj\n",
        "  date_time_str = row['date'] + \" \" + row['maximum_time']\n",
        "  date_time_obj = datetime.fromisoformat(date_time_str.replace('/', '-'))\n",
        "  df.at[index, 'max_datetime'] = date_time_obj\n",
        "  date_time_str = row['date'] + \" \" + row['end_time']\n",
        "  date_time_obj = datetime.fromisoformat(date_time_str.replace('/', '-'))\n",
        "  df.at[index, 'end_datetime'] = date_time_obj\n",
        "\n",
        "df = df.drop('date', axis=1)\n",
        "df = df.drop('start_time', axis=1)\n",
        "df = df.drop('maximum_time', axis=1)\n",
        "df = df.drop('end_time', axis=1)\n",
        "\n",
        "df = df.rename(columns={'x_classification':'x_class'})\n",
        "df = df.set_index('rank')"
      ],
      "metadata": {
        "id": "ry_SAvjtR6Vn"
      },
      "execution_count": null,
      "outputs": []
    },
    {
      "cell_type": "markdown",
      "source": [
        "Reordering the columns and dropping the date and start/end time columns, as they are no longer needed"
      ],
      "metadata": {
        "id": "gOhyaLAZ1iHw"
      }
    },
    {
      "cell_type": "code",
      "source": [
        "new_order = ['x_class', 'start_datetime', 'max_datetime', 'end_datetime', 'region']\n",
        "\n",
        "df = df[new_order]"
      ],
      "metadata": {
        "id": "PCAlkS6EaMXl"
      },
      "execution_count": null,
      "outputs": []
    },
    {
      "cell_type": "markdown",
      "source": [
        "*Step 3*"
      ],
      "metadata": {
        "id": "FtUXNKFtiDDm"
      }
    },
    {
      "cell_type": "markdown",
      "source": [
        "Creating a new dataframe from the NASA data."
      ],
      "metadata": {
        "id": "kVcKb0P21nuY"
      }
    },
    {
      "cell_type": "code",
      "source": [
        "#1\n",
        "url = 'https://cdaw.gsfc.nasa.gov/CME_list/radio/waves_type2.html'\n",
        "response = req.get(url)\n",
        "soup = BeautifulSoup(response.text, 'html.parser')\n",
        "\n",
        "content = soup.get_text()\n",
        "\n",
        "lines = content.split('\\n')\n",
        "\n",
        "content = lines[19:]\n",
        "content = content[:-3]\n",
        "\n",
        "occurrences = len(content)\n",
        "\n",
        "columns = ['start_date', 'start_time', 'end_date', 'end_time', 'start_frequency', 'end_frequency', 'flare_location', 'flare_region', 'flare_classification', 'cme_date',\n",
        "           'cme_time', 'cme_angle', 'cme_width', 'cme_speed']\n",
        "nasa_df = pd.DataFrame(columns=columns)\n",
        "\n",
        "for line in content:\n",
        "  new_line = line.split()\n",
        "  new_line = new_line[:14]\n",
        "  nasa_df.loc[len(nasa_df)] = new_line\n",
        "\n",
        "print(nasa_df)"
      ],
      "metadata": {
        "id": "2sj3OPsKiCA6",
        "colab": {
          "base_uri": "https://localhost:8080/"
        },
        "outputId": "129f233b-8f32-4e2c-c43f-4f454b80da12"
      },
      "execution_count": null,
      "outputs": [
        {
          "output_type": "stream",
          "name": "stdout",
          "text": [
            "     start_date start_time end_date end_time start_frequency end_frequency  \\\n",
            "0    1997/04/01      14:00    04/01    14:15            8000          4000   \n",
            "1    1997/04/07      14:30    04/07    17:30           11000          1000   \n",
            "2    1997/05/12      05:15    05/14    16:00           12000            80   \n",
            "3    1997/05/21      20:20    05/21    22:00            5000           500   \n",
            "4    1997/09/23      21:53    09/23    22:16            6000          2000   \n",
            "..          ...        ...      ...      ...             ...           ...   \n",
            "517  2017/09/17      11:45    09/17    12:35           16000           900   \n",
            "518  2017/10/18      05:48    10/18    12:40           16000           400   \n",
            "519  2019/05/03      23:52    05/04    00:16           13000          2300   \n",
            "520  2020/11/29      13:07    11/29    15:23           14000           850   \n",
            "521  2020/12/07      16:18    12/08    02:00           14000           160   \n",
            "\n",
            "    flare_location flare_region flare_classification cme_date cme_time  \\\n",
            "0           S25E16         8026                 M1.3    04/01    15:18   \n",
            "1           S28E19         8027                 C6.8    04/07    14:27   \n",
            "2           N21W08         8038                 C1.3    05/12    05:30   \n",
            "3           N05W12         8040                 M1.3    05/21    21:00   \n",
            "4           S29E25         8088                 C1.4    09/23    22:02   \n",
            "..             ...          ...                  ...      ...      ...   \n",
            "517        S08E170        -----                 ----    09/17    12:00   \n",
            "518        S06E123        -----                 ----    10/18    08:00   \n",
            "519         N12E82        12740                 C1.0    05/03    23:24   \n",
            "520         S23E89        -----                 M4.4    11/29    13:25   \n",
            "521         S25W08        12790                 C7.4    12/07    16:24   \n",
            "\n",
            "    cme_angle cme_width cme_speed  \n",
            "0          74        79       312  \n",
            "1        Halo       360       878  \n",
            "2        Halo       360       464  \n",
            "3         263       165       296  \n",
            "4         133       155       712  \n",
            "..        ...       ...       ...  \n",
            "517      Halo       360      1385  \n",
            "518        85       146      1001  \n",
            "519        90       113       692  \n",
            "520      Halo       360      2077  \n",
            "521      Halo       360      1407  \n",
            "\n",
            "[522 rows x 14 columns]\n"
          ]
        }
      ]
    },
    {
      "cell_type": "markdown",
      "source": [
        "*Step 4*"
      ],
      "metadata": {
        "id": "PxdCN5ZvTZET"
      }
    },
    {
      "cell_type": "markdown",
      "source": [
        "Here is a function to iterate through a column, find the code for a missing entry, and replace with NaN."
      ],
      "metadata": {
        "id": "k-XMnNAhUvep"
      }
    },
    {
      "cell_type": "code",
      "source": [
        "def replace_vals(frame, column, indicator):\n",
        "  for index, row in frame.iterrows():\n",
        "    if row[column] == indicator:\n",
        "      frame.at[index, column] = np.NaN\n",
        "\n",
        "  return(frame)"
      ],
      "metadata": {
        "id": "6q6HF7rAlzmR"
      },
      "execution_count": null,
      "outputs": []
    },
    {
      "cell_type": "markdown",
      "source": [
        "Using this function to replace all missing value codes with NaN"
      ],
      "metadata": {
        "id": "w43XnM5K1v3X"
      }
    },
    {
      "cell_type": "code",
      "source": [
        "nasa_df = replace_vals(nasa_df, 'start_frequency', '????')\n",
        "\n",
        "nasa_df = replace_vals(nasa_df, 'end_frequency', '????')\n",
        "\n",
        "nasa_df = replace_vals(nasa_df, 'flare_location', '------')\n",
        "\n",
        "nasa_df = replace_vals(nasa_df, 'flare_region', '-----')\n",
        "\n",
        "nasa_df = replace_vals(nasa_df, 'flare_classification', '----')\n",
        "\n",
        "nasa_df = replace_vals(nasa_df, 'cme_date', '--/--')\n",
        "\n",
        "nasa_df = replace_vals(nasa_df, 'cme_time', '--:--')\n",
        "\n",
        "nasa_df = replace_vals(nasa_df, 'cme_angle', '----')\n",
        "\n",
        "nasa_df = replace_vals(nasa_df, 'cme_width', '----')\n",
        "\n",
        "nasa_df = replace_vals(nasa_df, 'cme_width', '---')\n",
        "\n",
        "nasa_df = replace_vals(nasa_df, 'cme_speed', '----')\n",
        "\n",
        "nasa_df = replace_vals(nasa_df, 'flare_classification', 'FILA')\n",
        "\n",
        "nasa_df = replace_vals(nasa_df, 'flare_region', 'FILA')\n",
        "\n",
        "nasa_df = replace_vals(nasa_df, 'flare_region', 'altr')\n",
        "\n",
        "nasa_df['plot is_halo'] = [''] * len(nasa_df)\n",
        "\n",
        "for index, row in nasa_df.iterrows():\n",
        "  if row['cme_angle'] == 'Halo':\n",
        "    nasa_df.at[index, 'plot is_halo'] = True\n",
        "  else:\n",
        "    nasa_df.at[index, 'plot is_halo'] = False\n",
        "\n",
        "nasa_df = replace_vals(nasa_df, 'cme_angle', 'Halo')\n",
        "\n",
        "print(nasa_df)"
      ],
      "metadata": {
        "colab": {
          "base_uri": "https://localhost:8080/"
        },
        "id": "o2CqoWS1Vkuu",
        "outputId": "36af3005-3dd0-4ce8-da81-09393f060cb8"
      },
      "execution_count": null,
      "outputs": [
        {
          "output_type": "stream",
          "name": "stdout",
          "text": [
            "     start_date start_time end_date end_time start_frequency end_frequency  \\\n",
            "0    1997/04/01      14:00    04/01    14:15            8000          4000   \n",
            "1    1997/04/07      14:30    04/07    17:30           11000          1000   \n",
            "2    1997/05/12      05:15    05/14    16:00           12000            80   \n",
            "3    1997/05/21      20:20    05/21    22:00            5000           500   \n",
            "4    1997/09/23      21:53    09/23    22:16            6000          2000   \n",
            "..          ...        ...      ...      ...             ...           ...   \n",
            "517  2017/09/17      11:45    09/17    12:35           16000           900   \n",
            "518  2017/10/18      05:48    10/18    12:40           16000           400   \n",
            "519  2019/05/03      23:52    05/04    00:16           13000          2300   \n",
            "520  2020/11/29      13:07    11/29    15:23           14000           850   \n",
            "521  2020/12/07      16:18    12/08    02:00           14000           160   \n",
            "\n",
            "    flare_location flare_region flare_classification cme_date cme_time  \\\n",
            "0           S25E16         8026                 M1.3    04/01    15:18   \n",
            "1           S28E19         8027                 C6.8    04/07    14:27   \n",
            "2           N21W08         8038                 C1.3    05/12    05:30   \n",
            "3           N05W12         8040                 M1.3    05/21    21:00   \n",
            "4           S29E25         8088                 C1.4    09/23    22:02   \n",
            "..             ...          ...                  ...      ...      ...   \n",
            "517        S08E170          NaN                  NaN    09/17    12:00   \n",
            "518        S06E123          NaN                  NaN    10/18    08:00   \n",
            "519         N12E82        12740                 C1.0    05/03    23:24   \n",
            "520         S23E89          NaN                 M4.4    11/29    13:25   \n",
            "521         S25W08        12790                 C7.4    12/07    16:24   \n",
            "\n",
            "    cme_angle cme_width cme_speed plot is_halo  \n",
            "0          74        79       312        False  \n",
            "1         NaN       360       878         True  \n",
            "2         NaN       360       464         True  \n",
            "3         263       165       296        False  \n",
            "4         133       155       712        False  \n",
            "..        ...       ...       ...          ...  \n",
            "517       NaN       360      1385         True  \n",
            "518        85       146      1001        False  \n",
            "519        90       113       692        False  \n",
            "520       NaN       360      2077         True  \n",
            "521       NaN       360      1407         True  \n",
            "\n",
            "[522 rows x 15 columns]\n"
          ]
        }
      ]
    },
    {
      "cell_type": "markdown",
      "source": [
        "Creates a column of booleans that return true if the width is a lower bound"
      ],
      "metadata": {
        "id": "Na4cOoi610Uu"
      }
    },
    {
      "cell_type": "code",
      "source": [
        "nasa_df['width_lower_bound'] = [''] * len(nasa_df)\n",
        "\n",
        "for index, row in nasa_df.iterrows():\n",
        "  if isinstance(row['cme_width'], float) == False:\n",
        "    if \">\" in row['cme_width']:\n",
        "      nasa_df.at[index, 'width_lower_bound'] = True\n",
        "      nasa_df.at[index, 'cme_width'] = nasa_df.at[index, 'cme_width'][1:]\n",
        "    else:\n",
        "      nasa_df.at[index, 'width_lower_bound'] = False\n",
        "  else:\n",
        "    nasa_df.at[index, 'width_lower_bound'] = False\n",
        "\n",
        "print(nasa_df)"
      ],
      "metadata": {
        "id": "Z87nvC7NdM_o",
        "colab": {
          "base_uri": "https://localhost:8080/"
        },
        "outputId": "f0b7e85f-c58d-4f38-b521-63cd8bf910fd"
      },
      "execution_count": null,
      "outputs": [
        {
          "output_type": "stream",
          "name": "stdout",
          "text": [
            "     start_date start_time end_date end_time start_frequency end_frequency  \\\n",
            "0    1997/04/01      14:00    04/01    14:15            8000          4000   \n",
            "1    1997/04/07      14:30    04/07    17:30           11000          1000   \n",
            "2    1997/05/12      05:15    05/14    16:00           12000            80   \n",
            "3    1997/05/21      20:20    05/21    22:00            5000           500   \n",
            "4    1997/09/23      21:53    09/23    22:16            6000          2000   \n",
            "..          ...        ...      ...      ...             ...           ...   \n",
            "517  2017/09/17      11:45    09/17    12:35           16000           900   \n",
            "518  2017/10/18      05:48    10/18    12:40           16000           400   \n",
            "519  2019/05/03      23:52    05/04    00:16           13000          2300   \n",
            "520  2020/11/29      13:07    11/29    15:23           14000           850   \n",
            "521  2020/12/07      16:18    12/08    02:00           14000           160   \n",
            "\n",
            "    flare_location flare_region flare_classification cme_date cme_time  \\\n",
            "0           S25E16         8026                 M1.3    04/01    15:18   \n",
            "1           S28E19         8027                 C6.8    04/07    14:27   \n",
            "2           N21W08         8038                 C1.3    05/12    05:30   \n",
            "3           N05W12         8040                 M1.3    05/21    21:00   \n",
            "4           S29E25         8088                 C1.4    09/23    22:02   \n",
            "..             ...          ...                  ...      ...      ...   \n",
            "517        S08E170          NaN                  NaN    09/17    12:00   \n",
            "518        S06E123          NaN                  NaN    10/18    08:00   \n",
            "519         N12E82        12740                 C1.0    05/03    23:24   \n",
            "520         S23E89          NaN                 M4.4    11/29    13:25   \n",
            "521         S25W08        12790                 C7.4    12/07    16:24   \n",
            "\n",
            "    cme_angle cme_width cme_speed plot is_halo width_lower_bound  \n",
            "0          74        79       312        False             False  \n",
            "1         NaN       360       878         True             False  \n",
            "2         NaN       360       464         True             False  \n",
            "3         263       165       296        False             False  \n",
            "4         133       155       712        False             False  \n",
            "..        ...       ...       ...          ...               ...  \n",
            "517       NaN       360      1385         True             False  \n",
            "518        85       146      1001        False             False  \n",
            "519        90       113       692        False             False  \n",
            "520       NaN       360      2077         True             False  \n",
            "521       NaN       360      1407         True             False  \n",
            "\n",
            "[522 rows x 16 columns]\n"
          ]
        }
      ]
    },
    {
      "cell_type": "markdown",
      "source": [
        "Here is a function to fix the error in the table in which midnight is expressed as 24:00 the day before, rather than 0:00 on the correct date.  Datetime objects must have a time between 0:00 and 23:59, so this function accommodates that requirement."
      ],
      "metadata": {
        "id": "1Ot4BXhg2m1h"
      }
    },
    {
      "cell_type": "code",
      "source": [
        "def fix24(date):\n",
        "  day = date[-2:]\n",
        "  day_int = int(day)\n",
        "  day_int += 1\n",
        "  day_str = str(day_int)\n",
        "  if len(day_str) == 1:\n",
        "    day_str = \"0\" + day_str\n",
        "  new_date = date[:3]\n",
        "  new_date += day_str\n",
        "  return(new_date)"
      ],
      "metadata": {
        "id": "t5qOGxg7wQqC"
      },
      "execution_count": null,
      "outputs": []
    },
    {
      "cell_type": "markdown",
      "source": [
        "Turning the start and end times into datetime objects"
      ],
      "metadata": {
        "id": "BSA57tv63hLT"
      }
    },
    {
      "cell_type": "code",
      "source": [
        "nasa_df['start_datetime'] = None\n",
        "nasa_df['end_datetime'] = None\n",
        "nasa_df['cme_datetime'] = None\n",
        "\n",
        "for index, row in nasa_df.iterrows():\n",
        "  year = row['start_date'][:4]\n",
        "  date_time_str = row['start_date'] + \" \" + row['start_time']\n",
        "  date_time_obj = datetime.fromisoformat(date_time_str.replace('/', '-'))\n",
        "  nasa_df.at[index, 'start_datetime'] = date_time_obj\n",
        "\n",
        "  if row['end_time'] == '24:00':\n",
        "    row['end_date'] = fix24(row['end_date'])\n",
        "    row['end_time'] = '00:00'\n",
        "  date_time_str = year + \"-\" + row['end_date'] + \" \" + row['end_time']\n",
        "  date_time_obj = datetime.fromisoformat(date_time_str.replace('/', '-'))\n",
        "  nasa_df.at[index, 'end_datetime'] = date_time_obj\n",
        "\n",
        "  if isinstance(row['cme_date'], float) == False:\n",
        "    date_time_str = year + \"-\" + row['cme_date'] + \" \" + row['cme_time']\n",
        "    date_time_obj = datetime.fromisoformat(date_time_str.replace('/', '-'))\n",
        "    nasa_df.at[index, 'cme_datetime'] = date_time_obj\n",
        "  else:\n",
        "    nasa_df.at[index, 'cme_datetime'] = np.NaN\n",
        "\n",
        "print(nasa_df)"
      ],
      "metadata": {
        "colab": {
          "base_uri": "https://localhost:8080/"
        },
        "id": "zzQA2lPXnUiU",
        "outputId": "a92de448-546b-4b91-a8b4-e0d997a02d77"
      },
      "execution_count": null,
      "outputs": [
        {
          "output_type": "stream",
          "name": "stdout",
          "text": [
            "     start_date start_time end_date end_time start_frequency end_frequency  \\\n",
            "0    1997/04/01      14:00    04/01    14:15            8000          4000   \n",
            "1    1997/04/07      14:30    04/07    17:30           11000          1000   \n",
            "2    1997/05/12      05:15    05/14    16:00           12000            80   \n",
            "3    1997/05/21      20:20    05/21    22:00            5000           500   \n",
            "4    1997/09/23      21:53    09/23    22:16            6000          2000   \n",
            "..          ...        ...      ...      ...             ...           ...   \n",
            "517  2017/09/17      11:45    09/17    12:35           16000           900   \n",
            "518  2017/10/18      05:48    10/18    12:40           16000           400   \n",
            "519  2019/05/03      23:52    05/04    00:16           13000          2300   \n",
            "520  2020/11/29      13:07    11/29    15:23           14000           850   \n",
            "521  2020/12/07      16:18    12/08    02:00           14000           160   \n",
            "\n",
            "    flare_location flare_region flare_classification cme_date cme_time  \\\n",
            "0           S25E16         8026                 M1.3    04/01    15:18   \n",
            "1           S28E19         8027                 C6.8    04/07    14:27   \n",
            "2           N21W08         8038                 C1.3    05/12    05:30   \n",
            "3           N05W12         8040                 M1.3    05/21    21:00   \n",
            "4           S29E25         8088                 C1.4    09/23    22:02   \n",
            "..             ...          ...                  ...      ...      ...   \n",
            "517        S08E170          NaN                  NaN    09/17    12:00   \n",
            "518        S06E123          NaN                  NaN    10/18    08:00   \n",
            "519         N12E82        12740                 C1.0    05/03    23:24   \n",
            "520         S23E89          NaN                 M4.4    11/29    13:25   \n",
            "521         S25W08        12790                 C7.4    12/07    16:24   \n",
            "\n",
            "    cme_angle cme_width cme_speed plot is_halo width_lower_bound  \\\n",
            "0          74        79       312        False             False   \n",
            "1         NaN       360       878         True             False   \n",
            "2         NaN       360       464         True             False   \n",
            "3         263       165       296        False             False   \n",
            "4         133       155       712        False             False   \n",
            "..        ...       ...       ...          ...               ...   \n",
            "517       NaN       360      1385         True             False   \n",
            "518        85       146      1001        False             False   \n",
            "519        90       113       692        False             False   \n",
            "520       NaN       360      2077         True             False   \n",
            "521       NaN       360      1407         True             False   \n",
            "\n",
            "          start_datetime         end_datetime         cme_datetime  \n",
            "0    1997-04-01 14:00:00  1997-04-01 14:15:00  1997-04-01 15:18:00  \n",
            "1    1997-04-07 14:30:00  1997-04-07 17:30:00  1997-04-07 14:27:00  \n",
            "2    1997-05-12 05:15:00  1997-05-14 16:00:00  1997-05-12 05:30:00  \n",
            "3    1997-05-21 20:20:00  1997-05-21 22:00:00  1997-05-21 21:00:00  \n",
            "4    1997-09-23 21:53:00  1997-09-23 22:16:00  1997-09-23 22:02:00  \n",
            "..                   ...                  ...                  ...  \n",
            "517  2017-09-17 11:45:00  2017-09-17 12:35:00  2017-09-17 12:00:00  \n",
            "518  2017-10-18 05:48:00  2017-10-18 12:40:00  2017-10-18 08:00:00  \n",
            "519  2019-05-03 23:52:00  2019-05-04 00:16:00  2019-05-03 23:24:00  \n",
            "520  2020-11-29 13:07:00  2020-11-29 15:23:00  2020-11-29 13:25:00  \n",
            "521  2020-12-07 16:18:00  2020-12-08 02:00:00  2020-12-07 16:24:00  \n",
            "\n",
            "[522 rows x 19 columns]\n"
          ]
        }
      ]
    },
    {
      "cell_type": "markdown",
      "source": [
        "Final Neatening"
      ],
      "metadata": {
        "id": "CA8Sg32o0mvO"
      }
    },
    {
      "cell_type": "markdown",
      "source": [
        "Reordering the NASA dataframe without the old start and end time/date columns, as they are no longer necessary."
      ],
      "metadata": {
        "id": "-daemPxL3mk3"
      }
    },
    {
      "cell_type": "code",
      "source": [
        "new_order = ['start_datetime',  'end_datetime', 'start_frequency', 'end_frequency', 'flare_location', 'flare_region', 'flare_classification', 'cme_datetime',\n",
        "             'cme_angle', 'cme_width', 'cme_speed', 'plot is_halo', 'width_lower_bound']\n",
        "\n",
        "nasa_df = nasa_df[new_order]"
      ],
      "metadata": {
        "id": "MSUuf7vBne-L"
      },
      "execution_count": null,
      "outputs": []
    },
    {
      "cell_type": "markdown",
      "source": [
        "***Part 2***"
      ],
      "metadata": {
        "id": "VEP08WLC6R0O"
      }
    },
    {
      "cell_type": "markdown",
      "source": [
        "*Question 1*"
      ],
      "metadata": {
        "id": "q-WKZVAL6T1l"
      }
    },
    {
      "cell_type": "markdown",
      "source": [
        "To get an order for the classification, each letter will be assigned a number: 100 for A, 200 for B, 2600 for Z, etc."
      ],
      "metadata": {
        "id": "oKy5Z5ia6V60"
      }
    },
    {
      "cell_type": "code",
      "source": [
        "def letter_to_number(letter):\n",
        "  return 100*(ord(letter) - ord('A') + 1)"
      ],
      "metadata": {
        "id": "qnOdyrj38PgK"
      },
      "execution_count": null,
      "outputs": []
    },
    {
      "cell_type": "markdown",
      "source": [
        "Then, the number following the letter will be added.  This will give X28 the highest value."
      ],
      "metadata": {
        "id": "c3ocaPH09lDx"
      }
    },
    {
      "cell_type": "code",
      "source": [
        "nasa_df['class_nbr'] = None\n",
        "\n",
        "for index, row in nasa_df.iterrows():\n",
        "  clas = row['flare_classification']\n",
        "  if isinstance(clas, float) == False:\n",
        "    letter = clas[0]\n",
        "    class_nbr = letter_to_number(letter)\n",
        "    rest = float(clas[1:])\n",
        "    class_nbr += rest\n",
        "    row['class_nbr'] = class_nbr\n",
        "  else:\n",
        "    row['class_nbr'] = 0"
      ],
      "metadata": {
        "id": "nhHMb_eA9wJo"
      },
      "execution_count": null,
      "outputs": []
    },
    {
      "cell_type": "markdown",
      "source": [
        "Finally, the table is sorted such that the highest classifications are at the top."
      ],
      "metadata": {
        "id": "RXGQgq393wRC"
      }
    },
    {
      "cell_type": "code",
      "source": [
        "nasa_df = nasa_df.sort_values(by='class_nbr', ascending=False, ignore_index=True)\n",
        "\n",
        "print(nasa_df)"
      ],
      "metadata": {
        "colab": {
          "base_uri": "https://localhost:8080/"
        },
        "id": "wjrlluyw_9cG",
        "outputId": "8f0ba405-dbe2-47ff-cb7f-a5f7d9700fc0"
      },
      "execution_count": null,
      "outputs": [
        {
          "output_type": "stream",
          "name": "stdout",
          "text": [
            "          start_datetime         end_datetime start_frequency end_frequency  \\\n",
            "0    2003-11-04 20:00:00  2003-11-05 00:00:00           10000           200   \n",
            "1    2001-04-02 22:05:00  2001-04-03 02:30:00           14000           250   \n",
            "2    2003-10-28 11:10:00  2003-10-30 00:00:00           14000            40   \n",
            "3    2001-04-15 14:05:00  2001-04-16 13:00:00           14000            40   \n",
            "4    2003-10-29 20:55:00  2003-10-30 00:00:00           11000           500   \n",
            "..                   ...                  ...             ...           ...   \n",
            "517  2013-11-04 05:10:00  2013-11-04 08:00:00           16000           450   \n",
            "518  2001-05-30 00:25:00  2001-05-30 01:38:00           14000          1000   \n",
            "519  2001-06-15 16:05:00  2001-06-15 16:20:00           14000          3500   \n",
            "520  2001-08-16 00:10:00  2001-08-16 16:10:00            5400           150   \n",
            "521  2001-10-05 11:35:00  2001-10-05 12:55:00            1400           500   \n",
            "\n",
            "    flare_location flare_region flare_classification         cme_datetime  \\\n",
            "0           S19W83        10486                 X28.  2003-11-04 19:54:00   \n",
            "1           N19W72         9393                 X20.  2001-04-02 22:06:00   \n",
            "2           S16E08        10486                 X17.  2003-10-28 11:30:00   \n",
            "3           S20W85         9415                 X14.  2001-04-15 14:06:00   \n",
            "4           S15W02        10486                 X10.  2003-10-29 20:54:00   \n",
            "..             ...          ...                  ...                  ...   \n",
            "517        N03W165        11875                  NaN  2013-11-04 05:12:00   \n",
            "518           E90b         9481                  NaN  2001-05-30 00:06:00   \n",
            "519           W90b          NaN                  NaN  2001-06-15 15:56:00   \n",
            "520           Back          NaN                  NaN  2001-08-15 23:54:00   \n",
            "521          SW90b          NaN                  NaN  2001-10-05 10:30:00   \n",
            "\n",
            "    cme_angle cme_width cme_speed plot is_halo width_lower_bound class_nbr  \n",
            "0         NaN       360      2657         True             False    2428.0  \n",
            "1         261       244      2505        False             False    2420.0  \n",
            "2         NaN       360      2459         True             False    2417.0  \n",
            "3         245       167      1199        False             False    2414.0  \n",
            "4         NaN       360      2029         True             False    2410.0  \n",
            "..        ...       ...       ...          ...               ...       ...  \n",
            "517       NaN       360      1040         True             False         0  \n",
            "518        70       216      2087        False             False         0  \n",
            "519       NaN       360      1701         True             False         0  \n",
            "520       NaN       360      1575         True             False         0  \n",
            "521       NaN       360      1537         True             False         0  \n",
            "\n",
            "[522 rows x 14 columns]\n"
          ]
        }
      ]
    },
    {
      "cell_type": "markdown",
      "source": [
        "Getting the top 50 flares"
      ],
      "metadata": {
        "id": "F-xeIB8K32oj"
      }
    },
    {
      "cell_type": "code",
      "source": [
        "top_nasa = nasa_df.drop('class_nbr', axis=1)\n",
        "\n",
        "top_nasa = top_nasa.iloc[:50]"
      ],
      "metadata": {
        "id": "c4KDX4AN_-US"
      },
      "execution_count": null,
      "outputs": []
    },
    {
      "cell_type": "markdown",
      "source": [
        "NASA Data:"
      ],
      "metadata": {
        "id": "RpVN2treCuS3"
      }
    },
    {
      "cell_type": "code",
      "source": [
        "top_nasa = top_nasa.rename(columns={'flare_classification':'class'})\n",
        "\n",
        "print(top_nasa[['start_datetime', 'cme_datetime', 'end_datetime', 'class']])"
      ],
      "metadata": {
        "colab": {
          "base_uri": "https://localhost:8080/"
        },
        "id": "dn5IRzNtBq4X",
        "outputId": "270aac1f-d498-4ed2-c1de-a028c9b6f40a"
      },
      "execution_count": null,
      "outputs": [
        {
          "output_type": "stream",
          "name": "stdout",
          "text": [
            "         start_datetime         cme_datetime         end_datetime class\n",
            "0   2003-11-04 20:00:00  2003-11-04 19:54:00  2003-11-05 00:00:00  X28.\n",
            "1   2001-04-02 22:05:00  2001-04-02 22:06:00  2001-04-03 02:30:00  X20.\n",
            "2   2003-10-28 11:10:00  2003-10-28 11:30:00  2003-10-30 00:00:00  X17.\n",
            "3   2001-04-15 14:05:00  2001-04-15 14:06:00  2001-04-16 13:00:00  X14.\n",
            "4   2003-10-29 20:55:00  2003-10-29 20:54:00  2003-10-30 00:00:00  X10.\n",
            "5   1997-11-06 12:20:00  1997-11-06 12:10:00  1997-11-07 08:30:00  X9.4\n",
            "6   2017-09-06 12:05:00  2017-09-06 12:24:00  2017-09-07 08:00:00  X9.3\n",
            "7   2006-12-05 10:50:00                  NaN  2006-12-05 20:00:00  X9.0\n",
            "8   2003-11-02 17:30:00  2003-11-02 17:30:00  2003-11-03 01:00:00  X8.3\n",
            "9   2017-09-10 16:02:00  2017-09-10 16:00:00  2017-09-11 06:50:00  X8.3\n",
            "10  2005-01-20 07:15:00  2005-01-20 06:54:00  2005-01-20 16:30:00  X7.1\n",
            "11  2011-08-09 08:20:00  2011-08-09 08:12:00  2011-08-09 08:35:00  X6.9\n",
            "12  2006-12-06 19:00:00                  NaN  2006-12-09 00:00:00  X6.5\n",
            "13  2005-09-09 19:45:00  2005-09-09 19:48:00  2005-09-09 22:00:00  X6.2\n",
            "14  2000-07-14 10:30:00  2000-07-14 10:54:00  2000-07-15 14:30:00  X5.7\n",
            "15  2001-04-06 19:35:00  2001-04-06 19:30:00  2001-04-07 01:50:00  X5.6\n",
            "16  2012-03-07 01:00:00  2012-03-07 00:24:00  2012-03-08 19:00:00  X5.4\n",
            "17  2001-08-25 16:50:00  2001-08-25 16:50:00  2001-08-25 23:00:00  X5.3\n",
            "18  2014-02-25 00:56:00  2014-02-25 01:25:00  2014-02-25 11:28:00  X4.9\n",
            "19  2002-07-23 00:50:00  2002-07-23 00:42:00  2002-07-23 04:00:00  X4.8\n",
            "20  2000-11-26 17:00:00  2000-11-26 17:06:00  2000-11-26 17:15:00  X4.0\n",
            "21  2003-11-03 10:00:00  2003-11-03 10:06:00  2003-11-03 12:30:00  X3.9\n",
            "22  2005-01-17 10:00:00  2005-01-17 09:54:00  2005-01-17 10:35:00  X3.8\n",
            "23  2003-05-28 01:00:00  2003-05-28 00:50:00  2003-05-29 00:30:00  X3.6\n",
            "24  2001-12-28 20:35:00  2001-12-28 20:30:00  2001-12-29 03:00:00  X3.4\n",
            "25  2006-12-13 02:45:00  2006-12-13 02:54:00  2006-12-13 10:40:00  X3.4\n",
            "26  2002-07-20 21:30:00  2002-07-20 22:06:00  2002-07-20 22:20:00  X3.3\n",
            "27  2013-05-14 01:16:00  2013-05-14 01:25:00  2013-05-14 08:20:00  X3.2\n",
            "28  2002-08-24 01:45:00  2002-08-24 01:27:00  2002-08-24 03:25:00  X3.1\n",
            "29  2013-05-13 16:15:00  2013-05-13 16:07:00  2013-05-13 19:10:00  X2.8\n",
            "30  2003-11-03 01:15:00  2003-11-03 01:59:00  2003-11-03 01:25:00  X2.7\n",
            "31  2015-05-05 22:24:00  2015-05-05 22:24:00  2015-05-05 23:14:00  X2.7\n",
            "32  1998-05-06 08:25:00  1998-05-06 08:29:00  1998-05-06 08:35:00  X2.7\n",
            "33  2001-09-24 10:45:00  2001-09-24 10:30:00  2001-09-25 20:00:00  X2.6\n",
            "34  2005-01-15 23:00:00  2005-01-15 23:06:00  2005-01-17 00:00:00  X2.6\n",
            "35  1997-11-27 13:30:00  1997-11-27 13:56:00  1997-11-27 14:00:00  X2.6\n",
            "36  2004-11-10 02:25:00  2004-11-10 02:26:00  2004-11-10 03:40:00  X2.5\n",
            "37  2001-04-10 05:24:00  2001-04-10 05:30:00  2001-04-11 00:00:00  X2.3\n",
            "38  2000-11-24 15:25:00  2000-11-24 15:30:00  2000-11-24 22:00:00  X2.3\n",
            "39  2000-06-06 15:20:00  2000-06-06 15:54:00  2000-06-08 09:00:00  X2.3\n",
            "40  2011-02-15 02:10:00  2011-02-15 02:24:00  2011-02-15 07:00:00  X2.2\n",
            "41  1997-11-04 06:00:00  1997-11-04 06:10:00  1997-11-05 04:30:00  X2.1\n",
            "42  2005-09-10 21:45:00  2005-09-10 21:52:00  2005-09-11 01:00:00  X2.1\n",
            "43  2013-10-25 15:08:00  2013-10-25 15:12:00  2013-10-25 22:32:00  X2.1\n",
            "44  2011-09-06 22:30:00  2011-09-06 23:05:00  2011-09-07 15:40:00  X2.1\n",
            "45  2000-11-24 05:10:00  2000-11-24 05:30:00  2000-11-24 15:00:00  X2.0\n",
            "46  2004-11-07 16:25:00  2004-11-07 16:54:00  2004-11-08 20:00:00  X2.0\n",
            "47  2001-04-12 10:20:00  2001-04-12 10:31:00  2001-04-12 10:40:00  X2.0\n",
            "48  2005-01-17 09:25:00  2005-01-17 09:30:00  2005-01-17 16:00:00  X2.0\n",
            "49  2000-11-25 19:00:00  2000-11-25 19:31:00  2000-11-25 19:35:00  X1.9\n"
          ]
        }
      ]
    },
    {
      "cell_type": "markdown",
      "source": [
        "SpaceWeatherLive Data:"
      ],
      "metadata": {
        "id": "DXdWAummEu1H"
      }
    },
    {
      "cell_type": "code",
      "source": [
        "df_final = df.rename(columns={'x_class':'class'})\n",
        "\n",
        "print(df_final[['start_datetime', 'max_datetime', 'end_datetime', 'class']])"
      ],
      "metadata": {
        "colab": {
          "base_uri": "https://localhost:8080/"
        },
        "id": "xilP8_Y-C2EV",
        "outputId": "2ed331b5-f08b-4f81-8522-3e9336938c24"
      },
      "execution_count": null,
      "outputs": [
        {
          "output_type": "stream",
          "name": "stdout",
          "text": [
            "           start_datetime         max_datetime         end_datetime   class\n",
            "rank                                                                       \n",
            "1     2003-11-04 19:29:00  2003-11-04 19:53:00  2003-11-04 20:06:00    X28+\n",
            "2     2001-04-02 21:32:00  2001-04-02 21:51:00  2001-04-02 22:03:00    X20+\n",
            "3     2003-10-28 09:51:00  2003-10-28 11:10:00  2003-10-28 11:24:00  X17.2+\n",
            "4     2005-09-07 17:17:00  2005-09-07 17:40:00  2005-09-07 18:03:00    X17+\n",
            "5     2001-04-15 13:19:00  2001-04-15 13:50:00  2001-04-15 13:55:00   X14.4\n",
            "6     2003-10-29 20:37:00  2003-10-29 20:49:00  2003-10-29 21:01:00     X10\n",
            "7     1997-11-06 11:49:00  1997-11-06 11:55:00  1997-11-06 12:01:00    X9.4\n",
            "8     2017-09-06 11:53:00  2017-09-06 12:02:00  2017-09-06 12:10:00    X9.3\n",
            "9     2006-12-05 10:18:00  2006-12-05 10:35:00  2006-12-05 10:45:00      X9\n",
            "10    2003-11-02 17:03:00  2003-11-02 17:25:00  2003-11-02 17:39:00    X8.3\n",
            "11    2017-09-10 15:35:00  2017-09-10 16:06:00  2017-09-10 16:31:00    X8.2\n",
            "12    2005-01-20 06:36:00  2005-01-20 07:01:00  2005-01-20 07:26:00    X7.1\n",
            "13    2011-08-09 07:48:00  2011-08-09 08:05:00  2011-08-09 08:08:00    X6.9\n",
            "14    2006-12-06 18:29:00  2006-12-06 18:47:00  2006-12-06 19:00:00    X6.5\n",
            "15    2005-09-09 19:13:00  2005-09-09 20:04:00  2005-09-09 20:36:00    X6.2\n",
            "16    2001-12-13 14:20:00  2001-12-13 14:30:00  2001-12-13 14:35:00    X6.2\n",
            "17    2000-07-14 10:03:00  2000-07-14 10:24:00  2000-07-14 10:43:00    X5.7\n",
            "18    2001-04-06 19:10:00  2001-04-06 19:21:00  2001-04-06 19:31:00    X5.6\n",
            "19    2012-03-07 00:02:00  2012-03-07 00:24:00  2012-03-07 00:40:00    X5.4\n",
            "20    2005-09-08 20:52:00  2005-09-08 21:06:00  2005-09-08 21:17:00    X5.4\n",
            "21    2003-10-23 08:19:00  2003-10-23 08:35:00  2003-10-23 08:49:00    X5.4\n",
            "22    2001-08-25 16:23:00  2001-08-25 16:45:00  2001-08-25 17:04:00    X5.3\n",
            "23    2014-02-25 00:39:00  2014-02-25 00:49:00  2014-02-25 01:03:00    X4.9\n",
            "24    1998-08-18 22:10:00  1998-08-18 22:19:00  1998-08-18 22:28:00    X4.9\n",
            "25    2002-07-23 00:18:00  2002-07-23 00:35:00  2002-07-23 00:47:00    X4.8\n",
            "26    2000-11-26 16:34:00  2000-11-26 16:48:00  2000-11-26 16:56:00      X4\n",
            "27    2003-11-03 09:43:00  2003-11-03 09:55:00  2003-11-03 10:19:00    X3.9\n",
            "28    1998-08-19 21:35:00  1998-08-19 21:45:00  1998-08-19 21:50:00    X3.9\n",
            "29    2005-01-17 06:59:00  2005-01-17 09:52:00  2005-01-17 10:07:00    X3.8\n",
            "30    1998-11-22 06:30:00  1998-11-22 06:42:00  1998-11-22 06:49:00    X3.7\n",
            "31    2005-09-09 09:42:00  2005-09-09 09:59:00  2005-09-09 10:08:00    X3.6\n",
            "32    2004-07-16 13:49:00  2004-07-16 13:55:00  2004-07-16 14:01:00    X3.6\n",
            "33    2003-05-28 00:17:00  2003-05-28 00:27:00  2003-05-28 00:39:00    X3.6\n",
            "34    2006-12-13 02:14:00  2006-12-13 02:40:00  2006-12-13 02:57:00    X3.4\n",
            "35    2001-12-28 20:02:00  2001-12-28 20:45:00  2001-12-28 21:32:00    X3.4\n",
            "36    2013-11-05 22:07:00  2013-11-05 22:12:00  2013-11-05 22:15:00    X3.3\n",
            "37    2002-07-20 21:04:00  2002-07-20 21:30:00  2002-07-20 21:54:00    X3.3\n",
            "38    1998-11-28 04:54:00  1998-11-28 05:52:00  1998-11-28 06:13:00    X3.3\n",
            "39    2013-05-14 00:00:00  2013-05-14 01:11:00  2013-05-14 01:20:00    X3.2\n",
            "40    2014-10-24 21:07:00  2014-10-24 21:41:00  2014-10-24 22:13:00    X3.1\n",
            "41    2002-08-24 00:49:00  2002-08-24 01:12:00  2002-08-24 01:31:00    X3.1\n",
            "42    2002-07-15 19:59:00  2002-07-15 20:08:00  2002-07-15 20:14:00      X3\n",
            "43    2013-05-13 15:48:00  2013-05-13 16:05:00  2013-05-13 16:16:00    X2.8\n",
            "44    2001-12-11 07:58:00  2001-12-11 08:08:00  2001-12-11 08:14:00    X2.8\n",
            "45    1998-08-18 08:14:00  1998-08-18 08:24:00  1998-08-18 08:32:00    X2.8\n",
            "46    2015-05-05 22:05:00  2015-05-05 22:11:00  2015-05-05 22:15:00    X2.7\n",
            "47    2003-11-03 01:09:00  2003-11-03 01:30:00  2003-11-03 01:45:00    X2.7\n",
            "48    1998-05-06 07:58:00  1998-05-06 08:09:00  1998-05-06 08:20:00    X2.7\n",
            "49    2005-01-15 22:25:00  2005-01-15 23:02:00  2005-01-15 23:31:00    X2.6\n",
            "50    2001-09-24 09:32:00  2001-09-24 10:38:00  2001-09-24 11:09:00    X2.6\n"
          ]
        }
      ]
    },
    {
      "cell_type": "markdown",
      "source": [
        "Analysis: For the most part, the data is able to be replicated. There is some mismatch--for example, the flare appearing at rank 4 in the SpaceWeatherLive data is nowhere to be found in the NASA data. Additionally, the SpaceWeatherLive data has more specific timestamps, whereas much of the NASA data tends to be rounded to the hour."
      ],
      "metadata": {
        "id": "TkdPciBfColN"
      }
    },
    {
      "cell_type": "markdown",
      "source": [
        "*Question 2*"
      ],
      "metadata": {
        "id": "KQvudFMIFKqh"
      }
    },
    {
      "cell_type": "markdown",
      "source": [
        "Basing matches on the closest start datetime.  First, adjusting so that the index is the same for each"
      ],
      "metadata": {
        "id": "Juxn8_nzGI1c"
      }
    },
    {
      "cell_type": "code",
      "source": [
        "swl_data = df.reset_index(drop=True)"
      ],
      "metadata": {
        "id": "lJP3pMrDBrpF"
      },
      "execution_count": null,
      "outputs": []
    },
    {
      "cell_type": "markdown",
      "source": [
        "Now iterating through this data"
      ],
      "metadata": {
        "id": "dpzb-31MICBQ"
      }
    },
    {
      "cell_type": "code",
      "source": [
        "swl_data['Best NASA Match'] = None\n",
        "\n",
        "for index, row in swl_data.iterrows():\n",
        "  closest_index = -1\n",
        "  closest_diff = 1e70\n",
        "  for ind, r in nasa_df.iterrows():\n",
        "    time_diff = row['start_datetime'] - r['start_datetime']\n",
        "    in_seconds = np.abs(time_diff.total_seconds())\n",
        "    if in_seconds < closest_diff:\n",
        "      closest_index = ind\n",
        "      closest_diff = in_seconds\n",
        "\n",
        "\n",
        "  swl_data.loc[index, 'Best NASA Match'] = closest_index"
      ],
      "metadata": {
        "id": "t0ehDJqRIG-3"
      },
      "execution_count": null,
      "outputs": []
    },
    {
      "cell_type": "code",
      "source": [
        "print(swl_data)"
      ],
      "metadata": {
        "colab": {
          "base_uri": "https://localhost:8080/"
        },
        "id": "u2ftzWfWKsCI",
        "outputId": "3953ec26-fe34-42f6-fc29-bdf54d59dc13"
      },
      "execution_count": null,
      "outputs": [
        {
          "output_type": "stream",
          "name": "stdout",
          "text": [
            "   x_class       start_datetime         max_datetime         end_datetime  \\\n",
            "0     X28+  2003-11-04 19:29:00  2003-11-04 19:53:00  2003-11-04 20:06:00   \n",
            "1     X20+  2001-04-02 21:32:00  2001-04-02 21:51:00  2001-04-02 22:03:00   \n",
            "2   X17.2+  2003-10-28 09:51:00  2003-10-28 11:10:00  2003-10-28 11:24:00   \n",
            "3     X17+  2005-09-07 17:17:00  2005-09-07 17:40:00  2005-09-07 18:03:00   \n",
            "4    X14.4  2001-04-15 13:19:00  2001-04-15 13:50:00  2001-04-15 13:55:00   \n",
            "5      X10  2003-10-29 20:37:00  2003-10-29 20:49:00  2003-10-29 21:01:00   \n",
            "6     X9.4  1997-11-06 11:49:00  1997-11-06 11:55:00  1997-11-06 12:01:00   \n",
            "7     X9.3  2017-09-06 11:53:00  2017-09-06 12:02:00  2017-09-06 12:10:00   \n",
            "8       X9  2006-12-05 10:18:00  2006-12-05 10:35:00  2006-12-05 10:45:00   \n",
            "9     X8.3  2003-11-02 17:03:00  2003-11-02 17:25:00  2003-11-02 17:39:00   \n",
            "10    X8.2  2017-09-10 15:35:00  2017-09-10 16:06:00  2017-09-10 16:31:00   \n",
            "11    X7.1  2005-01-20 06:36:00  2005-01-20 07:01:00  2005-01-20 07:26:00   \n",
            "12    X6.9  2011-08-09 07:48:00  2011-08-09 08:05:00  2011-08-09 08:08:00   \n",
            "13    X6.5  2006-12-06 18:29:00  2006-12-06 18:47:00  2006-12-06 19:00:00   \n",
            "14    X6.2  2005-09-09 19:13:00  2005-09-09 20:04:00  2005-09-09 20:36:00   \n",
            "15    X6.2  2001-12-13 14:20:00  2001-12-13 14:30:00  2001-12-13 14:35:00   \n",
            "16    X5.7  2000-07-14 10:03:00  2000-07-14 10:24:00  2000-07-14 10:43:00   \n",
            "17    X5.6  2001-04-06 19:10:00  2001-04-06 19:21:00  2001-04-06 19:31:00   \n",
            "18    X5.4  2012-03-07 00:02:00  2012-03-07 00:24:00  2012-03-07 00:40:00   \n",
            "19    X5.4  2005-09-08 20:52:00  2005-09-08 21:06:00  2005-09-08 21:17:00   \n",
            "20    X5.4  2003-10-23 08:19:00  2003-10-23 08:35:00  2003-10-23 08:49:00   \n",
            "21    X5.3  2001-08-25 16:23:00  2001-08-25 16:45:00  2001-08-25 17:04:00   \n",
            "22    X4.9  2014-02-25 00:39:00  2014-02-25 00:49:00  2014-02-25 01:03:00   \n",
            "23    X4.9  1998-08-18 22:10:00  1998-08-18 22:19:00  1998-08-18 22:28:00   \n",
            "24    X4.8  2002-07-23 00:18:00  2002-07-23 00:35:00  2002-07-23 00:47:00   \n",
            "25      X4  2000-11-26 16:34:00  2000-11-26 16:48:00  2000-11-26 16:56:00   \n",
            "26    X3.9  2003-11-03 09:43:00  2003-11-03 09:55:00  2003-11-03 10:19:00   \n",
            "27    X3.9  1998-08-19 21:35:00  1998-08-19 21:45:00  1998-08-19 21:50:00   \n",
            "28    X3.8  2005-01-17 06:59:00  2005-01-17 09:52:00  2005-01-17 10:07:00   \n",
            "29    X3.7  1998-11-22 06:30:00  1998-11-22 06:42:00  1998-11-22 06:49:00   \n",
            "30    X3.6  2005-09-09 09:42:00  2005-09-09 09:59:00  2005-09-09 10:08:00   \n",
            "31    X3.6  2004-07-16 13:49:00  2004-07-16 13:55:00  2004-07-16 14:01:00   \n",
            "32    X3.6  2003-05-28 00:17:00  2003-05-28 00:27:00  2003-05-28 00:39:00   \n",
            "33    X3.4  2006-12-13 02:14:00  2006-12-13 02:40:00  2006-12-13 02:57:00   \n",
            "34    X3.4  2001-12-28 20:02:00  2001-12-28 20:45:00  2001-12-28 21:32:00   \n",
            "35    X3.3  2013-11-05 22:07:00  2013-11-05 22:12:00  2013-11-05 22:15:00   \n",
            "36    X3.3  2002-07-20 21:04:00  2002-07-20 21:30:00  2002-07-20 21:54:00   \n",
            "37    X3.3  1998-11-28 04:54:00  1998-11-28 05:52:00  1998-11-28 06:13:00   \n",
            "38    X3.2  2013-05-14 00:00:00  2013-05-14 01:11:00  2013-05-14 01:20:00   \n",
            "39    X3.1  2014-10-24 21:07:00  2014-10-24 21:41:00  2014-10-24 22:13:00   \n",
            "40    X3.1  2002-08-24 00:49:00  2002-08-24 01:12:00  2002-08-24 01:31:00   \n",
            "41      X3  2002-07-15 19:59:00  2002-07-15 20:08:00  2002-07-15 20:14:00   \n",
            "42    X2.8  2013-05-13 15:48:00  2013-05-13 16:05:00  2013-05-13 16:16:00   \n",
            "43    X2.8  2001-12-11 07:58:00  2001-12-11 08:08:00  2001-12-11 08:14:00   \n",
            "44    X2.8  1998-08-18 08:14:00  1998-08-18 08:24:00  1998-08-18 08:32:00   \n",
            "45    X2.7  2015-05-05 22:05:00  2015-05-05 22:11:00  2015-05-05 22:15:00   \n",
            "46    X2.7  2003-11-03 01:09:00  2003-11-03 01:30:00  2003-11-03 01:45:00   \n",
            "47    X2.7  1998-05-06 07:58:00  1998-05-06 08:09:00  1998-05-06 08:20:00   \n",
            "48    X2.6  2005-01-15 22:25:00  2005-01-15 23:02:00  2005-01-15 23:31:00   \n",
            "49    X2.6  2001-09-24 09:32:00  2001-09-24 10:38:00  2001-09-24 11:09:00   \n",
            "\n",
            "    region Best NASA Match  \n",
            "0      486               0  \n",
            "1     9393               1  \n",
            "2      486               2  \n",
            "3      808              54  \n",
            "4     9415               3  \n",
            "5      486               4  \n",
            "6     8100               5  \n",
            "7     2673               6  \n",
            "8      930               7  \n",
            "9      486               8  \n",
            "10    2673               9  \n",
            "11     720              10  \n",
            "12    1263              11  \n",
            "13     930              12  \n",
            "14     808              13  \n",
            "15    9733             464  \n",
            "16    9077              14  \n",
            "17    9415              15  \n",
            "18    1429              16  \n",
            "19     808              13  \n",
            "20     486             473  \n",
            "21    9591              17  \n",
            "22    1990              18  \n",
            "23    8307             366  \n",
            "24      39              19  \n",
            "25    9236              20  \n",
            "26     488              21  \n",
            "27    8307             366  \n",
            "28     720              48  \n",
            "29    8384             334  \n",
            "30     808              13  \n",
            "31     649             350  \n",
            "32     365              23  \n",
            "33     930              25  \n",
            "34    9767              24  \n",
            "35    1890             516  \n",
            "36      39              26  \n",
            "37    8395             334  \n",
            "38    1748              27  \n",
            "39    2192             349  \n",
            "40      69              28  \n",
            "41      30             235  \n",
            "42    1748              29  \n",
            "43    9733             464  \n",
            "44    8307             366  \n",
            "45    2339              31  \n",
            "46     488              30  \n",
            "47    8210              32  \n",
            "48     720              34  \n",
            "49    9632              33  \n"
          ]
        }
      ]
    },
    {
      "cell_type": "markdown",
      "source": [
        "*Question 3*"
      ],
      "metadata": {
        "id": "Yk-oJQ2ISq5R"
      }
    },
    {
      "cell_type": "code",
      "source": [
        "import matplotlib.pyplot as plt\n",
        "\n",
        "top_nasa['start_datetime'] = pd.to_datetime(top_nasa['start_datetime'])\n",
        "nasa_df['start_datetime'] = pd.to_datetime(nasa_df['start_datetime'])\n",
        "\n",
        "# Group the data by month and count the occurrences\n",
        "top_nasa['month'] = top_nasa['start_datetime'].dt.strftime('%Y-%m')\n",
        "nasa_df['month'] = nasa_df['start_datetime'].dt.strftime('%Y-%m')\n",
        "\n",
        "top_counts = top_nasa['month'].value_counts().sort_index()\n",
        "tot_counts = nasa_df['month'].value_counts().sort_index()\n",
        "\n",
        "# Combine the counts into a single DataFrame\n",
        "combined_counts = pd.concat([top_counts, tot_counts], axis=1, keys=['# of Top 50 Flares', 'Total Flares'])\n",
        "\n",
        "# Set the index name for the DataFrame\n",
        "combined_counts.index.name = 'month'\n",
        "\n",
        "# Sort the index chronologically\n",
        "combined_counts = combined_counts.sort_index()\n",
        "\n",
        "# Create the bar plot\n",
        "ax = combined_counts.plot(kind='bar', width=0.8, figsize=(10, 6))\n",
        "\n",
        "# Customize the plot\n",
        "ax.set_xlabel('Month')\n",
        "ax.set_ylabel('Count')\n",
        "ax.set_title('Month-by-Month Histogram')\n",
        "ax.legend(title='Data Source')\n",
        "\n",
        "# Label only one month per year with month and year\n",
        "months = combined_counts.index\n",
        "ax.set_xticks(range(len(months)))\n",
        "ax.set_xticklabels([month if month.endswith('-01') else '' for month in months], rotation=45)\n",
        "\n",
        "# Show the plot\n",
        "plt.show()"
      ],
      "metadata": {
        "id": "C7F-Ab3ZMOZr",
        "colab": {
          "base_uri": "https://localhost:8080/",
          "height": 601
        },
        "outputId": "0f506290-f696-4308-f04c-9efce3aae28b"
      },
      "execution_count": null,
      "outputs": [
        {
          "output_type": "display_data",
          "data": {
            "text/plain": [
              "<Figure size 1000x600 with 1 Axes>"
            ],
            "image/png": "[encoded data removed]"
          },
          "metadata": {}
        }
      ]
    },
    {
      "cell_type": "markdown",
      "source": [
        "This plot shows the number of flares per month throughout the entire time period, as well as the number of top 50 flares occurring in the same month.  The goal was to examine whether a month with more flares also tended to have more large flares.  According to this graph, that would appear to be the case, as each month with at least one top 50 flare has a spike in total flares.  This would suggest a strong positive covariance between total flares and top 50 flares."
      ],
      "metadata": {
        "id": "GIGpwRyvv95C"
      }
    }
  ]
}