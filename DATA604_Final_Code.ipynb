{
  "nbformat": 4,
  "nbformat_minor": 0,
  "metadata": {
    "colab": {
      "provenance": [],
      "authorship_tag": "ABX9TyMEBPy9d0Ae38VxbTRsKUeF",
      "include_colab_link": true
    },
    "kernelspec": {
      "name": "python3",
      "display_name": "Python 3"
    },
    "language_info": {
      "name": "python"
    }
  },
  "cells": [
    {
      "cell_type": "markdown",
      "metadata": {
        "id": "view-in-github",
        "colab_type": "text"
      },
      "source": [
        "<a href=\"https://colab.research.google.com/github/ColeBromfield01/bromfield-portfolio/blob/main/DATA604_Final_Code.ipynb\" target=\"_parent\"><img src=\"https://colab.research.google.com/assets/colab-badge.svg\" alt=\"Open In Colab\"/></a>"
      ]
    },
    {
      "cell_type": "markdown",
      "source": [
        "**Code**"
      ],
      "metadata": {
        "id": "jxnQM1HS8ee8"
      }
    },
    {
      "cell_type": "markdown",
      "source": [
        "*Loading data*"
      ],
      "metadata": {
        "id": "CCi-tlRn9aSu"
      }
    },
    {
      "cell_type": "code",
      "execution_count": 2,
      "metadata": {
        "id": "JrrX2DyG7fsU"
      },
      "outputs": [],
      "source": [
        "import tensorflow as tf\n",
        "(images1, labels1), (images2, labels2) = tf.keras.datasets.fashion_mnist.load_data()\n",
        "\n",
        "images = tf.concat([images1, images2], axis=0)\n",
        "labels = tf.concat([labels1, labels2], axis=0)"
      ]
    },
    {
      "cell_type": "markdown",
      "source": [
        "*Defining kNN function*"
      ],
      "metadata": {
        "id": "9Z659yQ28-PG"
      }
    },
    {
      "cell_type": "code",
      "source": [
        "from sklearn.neighbors import KNeighborsClassifier\n",
        "from sklearn.metrics import accuracy_score\n",
        "from sklearn.metrics import confusion_matrix\n",
        "\n",
        "def knn(train, test, train_labels, test_labels, k):\n",
        "  train_flat = train.reshape(train.shape[0], -1)\n",
        "  test_flat = test.reshape(test.shape[0], -1)\n",
        "\n",
        "  knn = KNeighborsClassifier(n_neighbors=k)\n",
        "\n",
        "  # Fit classifier to training data\n",
        "  knn.fit(train_flat, train_labels)\n",
        "\n",
        "  # Use the model to predict labels for test data\n",
        "  predicted_labels = knn.predict(test_flat)\n",
        "\n",
        "  # Calculate the accuracy of the predicted labels for the test data\n",
        "  accuracy = accuracy_score(test_labels, predicted_labels)\n",
        "\n",
        "  # Generate a confusion matrix\n",
        "  cm = confusion_matrix(test_labels, predicted_labels)\n",
        "\n",
        "  return(accuracy, cm)"
      ],
      "metadata": {
        "id": "An-LGD3T8gPT"
      },
      "execution_count": 3,
      "outputs": []
    },
    {
      "cell_type": "markdown",
      "source": [
        "*Problem 1*"
      ],
      "metadata": {
        "id": "h33jM6ti9Vic"
      }
    },
    {
      "cell_type": "code",
      "source": [
        "from sklearn.model_selection import train_test_split\n",
        "import numpy as np\n",
        "\n",
        "# Creating 80-20 train-test split\n",
        "test_prop = 0.2\n",
        "train_images, test_images, train_labels, test_labels = (\n",
        "    train_test_split(np.array(images), np.array(labels), test_size=test_prop))\n",
        "\n",
        "# Running kNN on raw data with k = 20\n",
        "neighbors = 20\n",
        "accuracy, cm = knn(train_images, test_images, train_labels, test_labels,\n",
        "                   neighbors)\n",
        "\n",
        "print(f\"Accuracy: {accuracy}\")"
      ],
      "metadata": {
        "colab": {
          "base_uri": "https://localhost:8080/"
        },
        "id": "eKAwiHow9AuT",
        "outputId": "80ea673c-1e2b-4e63-87f5-92491a0f81a7"
      },
      "execution_count": 4,
      "outputs": [
        {
          "output_type": "stream",
          "name": "stdout",
          "text": [
            "Accuracy: 0.8484285714285714\n"
          ]
        }
      ]
    },
    {
      "cell_type": "code",
      "source": [
        "from tabulate import tabulate\n",
        "\n",
        "class_names = ['T-shirt/top', 'Trouser', 'Pullover', 'Dress', 'Coat', 'Sandal',\n",
        "               'Shirt', 'Sneaker', 'Bag', 'Ankle boot']\n",
        "\n",
        "# Dictionary to story accuracy by class\n",
        "class_accuracies = {}\n",
        "\n",
        "for i in range(10):\n",
        "  correct = cm[i, i]\n",
        "  total = sum(cm[i])\n",
        "\n",
        "  accuracy = 100 * correct / total\n",
        "\n",
        "  # Storing class accuracy in dictionary\n",
        "  class_accuracies[class_names[i]] = round(accuracy, 2)\n",
        "\n",
        "# Turning the dictionary into a table\n",
        "table = [[key, value] for key, value in class_accuracies.items()]\n",
        "\n",
        "# Print the accuracies for each class in a Markdown formatted table\n",
        "print(tabulate(table, headers=[\"Class\", \"Accuracy %\"], tablefmt='pipe'))"
      ],
      "metadata": {
        "colab": {
          "base_uri": "https://localhost:8080/"
        },
        "id": "IV6mX7OM_d8l",
        "outputId": "48b41fdd-3dd1-4c71-aedb-642c90e424c3"
      },
      "execution_count": 5,
      "outputs": [
        {
          "output_type": "stream",
          "name": "stdout",
          "text": [
            "| Class       |   Accuracy % |\n",
            "|:------------|-------------:|\n",
            "| T-shirt/top |        88.58 |\n",
            "| Trouser     |        95.81 |\n",
            "| Pullover    |        79.44 |\n",
            "| Dress       |        87.39 |\n",
            "| Coat        |        77.28 |\n",
            "| Sandal      |        79.94 |\n",
            "| Shirt       |        55.27 |\n",
            "| Sneaker     |        94.53 |\n",
            "| Bag         |        94.02 |\n",
            "| Ankle boot  |        96.06 |\n"
          ]
        }
      ]
    },
    {
      "cell_type": "markdown",
      "source": [
        "*Problem 2*"
      ],
      "metadata": {
        "id": "5kgPoDTBUZPu"
      }
    },
    {
      "cell_type": "markdown",
      "source": [
        "Defining PCA matrix"
      ],
      "metadata": {
        "id": "xHj9-u0sVZih"
      }
    },
    {
      "cell_type": "code",
      "source": [
        "from sklearn.decomposition import PCA\n",
        "\n",
        "train_images = tf.cast(train_images, tf.float32)\n",
        "\n",
        "# Shaping data into vectors\n",
        "train_images = tf.reshape(train_images, (-1, 28 * 28))\n",
        "test_images = tf.reshape(test_images, (-1, 28 * 28))\n",
        "\n",
        "# Fitting a PCA model to the training data\n",
        "pca = PCA()\n",
        "pca.fit(train_images)\n",
        "P = pca.components_"
      ],
      "metadata": {
        "id": "OGwbTXR0UibW"
      },
      "execution_count": 6,
      "outputs": []
    },
    {
      "cell_type": "markdown",
      "source": [
        "Finding lowest dimension at which >84% accuracy is maintained"
      ],
      "metadata": {
        "id": "fGF5MsHwZcgo"
      }
    },
    {
      "cell_type": "code",
      "source": [
        "acc = 0\n",
        "keep = -5\n",
        "while acc < 0.84:\n",
        "  keep += 10\n",
        "  p_reduced = P[:keep]\n",
        "  p_reduced_train_images = np.transpose(np.dot(p_reduced, np.transpose(train_images)))\n",
        "  p_reduced_test_images = np.dot(p_reduced, np.transpose(test_images)).T\n",
        "  acc, cm_r = knn(p_reduced_train_images, p_reduced_test_images, train_labels, test_labels, 20)\n",
        "\n",
        "print(f\"Dimensions kept: {keep}\")\n",
        "print(f\"Accuracy: {acc}\")"
      ],
      "metadata": {
        "colab": {
          "base_uri": "https://localhost:8080/"
        },
        "id": "X-91uHrHVOYm",
        "outputId": "567160de-9322-45ee-803e-f6b08e80380a"
      },
      "execution_count": 7,
      "outputs": [
        {
          "output_type": "stream",
          "name": "stdout",
          "text": [
            "Dimensions kept: 25\n",
            "Accuracy: 0.8547142857142858\n"
          ]
        }
      ]
    },
    {
      "cell_type": "code",
      "source": [
        "# Repeating same class-by-class accuracy used with raw data\n",
        "class_accuracies_pca = {}\n",
        "for i in range(10):\n",
        "  correct = cm_r[i, i]\n",
        "  total = sum(cm_r[i])\n",
        "\n",
        "  accuracy = 100 * correct / total\n",
        "\n",
        "  class_accuracies_pca[class_names[i]] = round(accuracy, 2)\n",
        "\n",
        "# Turning the dictionary into a table\n",
        "table_pca = [[key, value] for key, value in class_accuracies_pca.items()]\n",
        "\n",
        "# Print the accuracies for each class in a Markdown formatted table\n",
        "print(tabulate(table_pca, headers=[\"Class\", \"Accuracy %\"], tablefmt='pipe'))"
      ],
      "metadata": {
        "colab": {
          "base_uri": "https://localhost:8080/"
        },
        "id": "csea1NlneJXC",
        "outputId": "464b65f6-9aff-46a7-e97e-c4f6cbbff9e7"
      },
      "execution_count": 8,
      "outputs": [
        {
          "output_type": "stream",
          "name": "stdout",
          "text": [
            "| Class       |   Accuracy % |\n",
            "|:------------|-------------:|\n",
            "| T-shirt/top |        86.63 |\n",
            "| Trouser     |        95.95 |\n",
            "| Pullover    |        77.29 |\n",
            "| Dress       |        88.8  |\n",
            "| Coat        |        80.03 |\n",
            "| Sandal      |        88.42 |\n",
            "| Shirt       |        55.41 |\n",
            "| Sneaker     |        92.54 |\n",
            "| Bag         |        95.24 |\n",
            "| Ankle boot  |        94.58 |\n"
          ]
        }
      ]
    },
    {
      "cell_type": "markdown",
      "source": [
        "*Problem 3*"
      ],
      "metadata": {
        "id": "oOiXVHwpbh54"
      }
    },
    {
      "cell_type": "code",
      "source": [
        "# Reshaping full dataset into vectors\n",
        "images = tf.reshape(images, (-1, 28 * 28))"
      ],
      "metadata": {
        "id": "7mWdSN8ztUv_"
      },
      "execution_count": 9,
      "outputs": []
    },
    {
      "cell_type": "code",
      "source": [
        "# Sampling the data to avoid RAM issues\n",
        "data_sample = 0.2\n",
        "step_size = int(1 / data_sample)\n",
        "sampled_labels = []\n",
        "sampled_images = []\n",
        "\n",
        "for i in range(len(images)):\n",
        "    if i % step_size == 0:\n",
        "        sampled_images.append(images[i])\n",
        "        sampled_labels.append(labels[i])\n",
        "\n",
        "# 80-20 train-test split for sampled data\n",
        "s_train_images, s_test_images, s_train_labels, s_test_labels = (\n",
        "    train_test_split(np.array(sampled_images), np.array(sampled_labels),\n",
        "                     test_size=test_prop))"
      ],
      "metadata": {
        "id": "H02X2bj-VQOW"
      },
      "execution_count": 10,
      "outputs": []
    },
    {
      "cell_type": "code",
      "source": [
        "from sklearn.decomposition import KernelPCA\n",
        "from sklearn.preprocessing import MinMaxScaler\n",
        "\n",
        "# Estimating gamma parameter for RBF, based on data variance\n",
        "data_variance = np.var(s_train_images)\n",
        "estimated_gamma = 1.0 / (2 * data_variance)\n",
        "\n",
        "# Normalizing data, as accuracy was terrible without doing this\n",
        "scaler = MinMaxScaler()\n",
        "normalized_train_images = scaler.fit_transform(s_train_images)\n",
        "normalized_test_images = scaler.transform(s_test_images)\n",
        "\n",
        "# Fitting kernel PCA model to sampled, normalized data\n",
        "kpca = KernelPCA(kernel='rbf', gamma=estimated_gamma)\n",
        "kpca.fit(normalized_train_images)\n",
        "\n",
        "# Transforming train and test data by kPCA model\n",
        "train_kpca = kpca.transform(normalized_train_images)\n",
        "test_kpca = kpca.transform(normalized_test_images)"
      ],
      "metadata": {
        "id": "CKC0ReivWife"
      },
      "execution_count": 11,
      "outputs": []
    },
    {
      "cell_type": "code",
      "source": [
        "acc_kpca = 0\n",
        "keep = -5\n",
        "diff = 1\n",
        "\n",
        "# Quasi-Elbow method to determine when accuracy levels off\n",
        "while np.abs(diff) > 0.005:\n",
        "  keep += 10\n",
        "  kp_reduced_train = train_kpca[:, :keep]\n",
        "  kp_reduced_test = test_kpca[:, :keep]\n",
        "  prev_acc = acc_kpca\n",
        "  acc_kpca, cm_k = knn(kp_reduced_train, kp_reduced_test, s_train_labels,\n",
        "                  s_test_labels, 20)\n",
        "  diff = acc_kpca - prev_acc\n",
        "  print(f\"With {keep} dimensions, {round(100*acc_kpca, 2)}% accuracy achieved.\")\n",
        "\n",
        "print(f\"\\nDimensions kept: {keep - 10}\")\n",
        "print(f\"Accuracy: {round(100*prev_acc, 2)}%\")"
      ],
      "metadata": {
        "id": "qb1XnXwTh-Og",
        "colab": {
          "base_uri": "https://localhost:8080/"
        },
        "outputId": "47259435-b8a8-4160-fd38-429a745884b6"
      },
      "execution_count": 33,
      "outputs": [
        {
          "output_type": "stream",
          "name": "stdout",
          "text": [
            "With 5 dimensions, 72.25% accuracy achieved.\n",
            "With 15 dimensions, 79.82% accuracy achieved.\n",
            "With 25 dimensions, 81.5% accuracy achieved.\n",
            "With 35 dimensions, 81.5% accuracy achieved.\n",
            "\n",
            "Dimensions kept: 25\n",
            "Accuracy: 81.5%\n"
          ]
        }
      ]
    },
    {
      "cell_type": "code",
      "source": [
        "# Class-by class accuracy for kPCA\n",
        "class_accuracies_kpca = {}\n",
        "for i in range(10):\n",
        "  correct = cm_k[i, i]\n",
        "  total = sum(cm_k[i])\n",
        "\n",
        "  accuracy = 100 * correct / total\n",
        "\n",
        "  class_accuracies_kpca[class_names[i]] = round(accuracy, 2)\n",
        "\n",
        "# Turning the dictionary into a table\n",
        "table_kpca = [[key, value] for key, value in class_accuracies_kpca.items()]\n",
        "\n",
        "# Print the accuracies for each class in a Markdown formatted table\n",
        "print(tabulate(table_kpca, headers=[\"Class\", \"Accuracy %\"], tablefmt='pipe'))"
      ],
      "metadata": {
        "id": "9UqMYD5Ek_iI",
        "colab": {
          "base_uri": "https://localhost:8080/"
        },
        "outputId": "77ed0990-4700-4a29-ba36-10b5ae33562b"
      },
      "execution_count": 34,
      "outputs": [
        {
          "output_type": "stream",
          "name": "stdout",
          "text": [
            "| Class       |   Accuracy % |\n",
            "|:------------|-------------:|\n",
            "| T-shirt/top |        86.01 |\n",
            "| Trouser     |        91.55 |\n",
            "| Pullover    |        69.96 |\n",
            "| Dress       |        83.75 |\n",
            "| Coat        |        76.43 |\n",
            "| Sandal      |        81.57 |\n",
            "| Shirt       |        52.4  |\n",
            "| Sneaker     |        89.67 |\n",
            "| Bag         |        91.79 |\n",
            "| Ankle boot  |        93.01 |\n"
          ]
        }
      ]
    },
    {
      "cell_type": "markdown",
      "source": [
        "*Problem 4*"
      ],
      "metadata": {
        "id": "9QNkjM6goFBF"
      }
    },
    {
      "cell_type": "code",
      "source": [
        "from sklearn.manifold import Isomap\n",
        "\n",
        "# Fitting the sampled data to an isomap model with neighborhood size 5\n",
        "neighborhood_size = 5\n",
        "isomap = Isomap(n_neighbors=neighborhood_size)\n",
        "isomap.fit(s_train_images)\n",
        "\n",
        "iso_train = isomap.transform(s_train_images)\n",
        "iso_test = isomap.transform(s_test_images)"
      ],
      "metadata": {
        "id": "7Zw5McLOoHeE"
      },
      "execution_count": 14,
      "outputs": []
    },
    {
      "cell_type": "code",
      "source": [
        "acc_iso = 0\n",
        "keep = 0\n",
        "diff = 1\n",
        "# Showing that the accuracy is non-changing with 2+ dimensions\n",
        "while keep < 10:\n",
        "  keep += 1\n",
        "  iso_reduced_train = iso_train[:, :keep]\n",
        "  iso_reduced_test = iso_test[:, :keep]\n",
        "  prev_acc = acc_iso\n",
        "  acc_iso, cm_iso = knn(iso_reduced_train, iso_reduced_test, s_train_labels,\n",
        "                  s_test_labels, 20)\n",
        "  diff = acc_iso - prev_acc\n",
        "  print(f\"With {keep} dimensions, {round(100*acc_iso, 2)}% accuracy achieved.\")"
      ],
      "metadata": {
        "colab": {
          "base_uri": "https://localhost:8080/"
        },
        "id": "1dUQAPXzrZQy",
        "outputId": "ebe79bfb-bce9-4c01-c27d-cb6d507d759e"
      },
      "execution_count": 26,
      "outputs": [
        {
          "output_type": "stream",
          "name": "stdout",
          "text": [
            "With 1 dimensions, 34.39% accuracy achieved.\n",
            "With 2 dimensions, 60.71% accuracy achieved.\n",
            "With 3 dimensions, 60.71% accuracy achieved.\n",
            "With 4 dimensions, 60.71% accuracy achieved.\n",
            "With 5 dimensions, 60.71% accuracy achieved.\n",
            "With 6 dimensions, 60.71% accuracy achieved.\n",
            "With 7 dimensions, 60.71% accuracy achieved.\n",
            "With 8 dimensions, 60.71% accuracy achieved.\n",
            "With 9 dimensions, 60.71% accuracy achieved.\n",
            "With 10 dimensions, 60.71% accuracy achieved.\n"
          ]
        }
      ]
    },
    {
      "cell_type": "code",
      "source": [
        "# Class accuracies with Isomap model\n",
        "class_accuracies_iso = {}\n",
        "for i in range(10):\n",
        "  correct = cm_iso[i, i]\n",
        "  total = sum(cm_iso[i])\n",
        "\n",
        "  accuracy = 100 * correct / total\n",
        "\n",
        "  class_accuracies_iso[class_names[i]] = round(accuracy, 2)\n",
        "\n",
        "# Turning the dictionary into a table\n",
        "table_iso = [[key, value] for key, value in class_accuracies_iso.items()]\n",
        "\n",
        "# Print the accuracies for each class in a Markdown formatted table\n",
        "print(tabulate(table_iso, headers=[\"Class\", \"Accuracy %\"], tablefmt='pipe'))"
      ],
      "metadata": {
        "colab": {
          "base_uri": "https://localhost:8080/"
        },
        "id": "hrUrGgCK2ej6",
        "outputId": "9947c807-e8a2-44da-9c08-2bfd2f228350"
      },
      "execution_count": 27,
      "outputs": [
        {
          "output_type": "stream",
          "name": "stdout",
          "text": [
            "| Class       |   Accuracy % |\n",
            "|:------------|-------------:|\n",
            "| T-shirt/top |        78.67 |\n",
            "| Trouser     |        75.7  |\n",
            "| Pullover    |        49.82 |\n",
            "| Dress       |        57.6  |\n",
            "| Coat        |        42.86 |\n",
            "| Sandal      |        70.59 |\n",
            "| Shirt       |        22.95 |\n",
            "| Sneaker     |        66.79 |\n",
            "| Bag         |        70.36 |\n",
            "| Ankle boot  |        73.78 |\n"
          ]
        }
      ]
    },
    {
      "cell_type": "code",
      "source": [],
      "metadata": {
        "id": "NBn0hSgIGpnd"
      },
      "execution_count": null,
      "outputs": []
    }
  ]
}